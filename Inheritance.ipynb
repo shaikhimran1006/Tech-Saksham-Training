{
 "cells": [
  {
   "cell_type": "code",
   "execution_count": 5,
   "id": "d7fbd49d-1c7a-49dc-bdc0-5b71c8d6c102",
   "metadata": {},
   "outputs": [
    {
     "name": "stdout",
     "output_type": "stream",
     "text": [
      "my father gifted a BMV\n"
     ]
    }
   ],
   "source": [
    "\"\"\"parent \n",
    "child classes\"\"\"\n",
    "\n",
    "class parent:\n",
    "    def __init__(self,house,car):\n",
    "        self.house=house\n",
    "        self.car=car\n",
    "\n",
    "class child(parent):\n",
    "    def show(self):\n",
    "        print(f\"my father gifted a {self.car}\")\n",
    "obj=child(\"bunglow\",\"BMV\")\n",
    "obj.show()"
   ]
  },
  {
   "cell_type": "code",
   "execution_count": 12,
   "id": "82aeefbb-dfcd-490b-8190-be2e2938699c",
   "metadata": {},
   "outputs": [
    {
     "name": "stdout",
     "output_type": "stream",
     "text": [
      "bunglow\n",
      "BMW\n"
     ]
    }
   ],
   "source": [
    "#constructor in both inherited classes\n",
    "\n",
    "class Parent:\n",
    "    def __init__(self,house):\n",
    "        self.house=house\n",
    "        print(self.house)\n",
    "class Child(Parent):\n",
    "    def __init__(self,house=\"xyz\",car=\"BMW\"):\n",
    "        super().__init__(house)\n",
    "        self.car=car\n",
    "        print(self.car)\n",
    "\n",
    "obj=Child(\"bunglow\")"
   ]
  },
  {
   "cell_type": "code",
   "execution_count": null,
   "id": "e66c7d36-ed3a-484c-b1f9-db2f384d93d5",
   "metadata": {},
   "outputs": [],
   "source": []
  }
 ],
 "metadata": {
  "kernelspec": {
   "display_name": "Python 3 (ipykernel)",
   "language": "python",
   "name": "python3"
  },
  "language_info": {
   "codemirror_mode": {
    "name": "ipython",
    "version": 3
   },
   "file_extension": ".py",
   "mimetype": "text/x-python",
   "name": "python",
   "nbconvert_exporter": "python",
   "pygments_lexer": "ipython3",
   "version": "3.12.0"
  }
 },
 "nbformat": 4,
 "nbformat_minor": 5
}
