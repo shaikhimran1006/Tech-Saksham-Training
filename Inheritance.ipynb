{
 "cells": [
  {
   "cell_type": "code",
   "execution_count": 5,
   "id": "d7fbd49d-1c7a-49dc-bdc0-5b71c8d6c102",
   "metadata": {},
   "outputs": [
    {
     "name": "stdout",
     "output_type": "stream",
     "text": [
      "my father gifted a BMV\n"
     ]
    }
   ],
   "source": [
    "\"\"\"parent \n",
    "child classes\"\"\"\n",
    "\n",
    "class parent:\n",
    "    def __init__(self,house,car):\n",
    "        self.house=house\n",
    "        self.car=car\n",
    "\n",
    "class child(parent):\n",
    "    def show(self):\n",
    "        print(f\"my father gifted a {self.car}\")\n",
    "obj=child(\"bunglow\",\"BMV\")\n",
    "obj.show()"
   ]
  },
  {
   "cell_type": "code",
   "execution_count": 12,
   "id": "82aeefbb-dfcd-490b-8190-be2e2938699c",
   "metadata": {},
   "outputs": [
    {
     "name": "stdout",
     "output_type": "stream",
     "text": [
      "bunglow\n",
      "BMW\n"
     ]
    }
   ],
   "source": [
    "#constructor in both inherited classes\n",
    "\n",
    "class Parent:\n",
    "    def __init__(self,house):\n",
    "        self.house=house\n",
    "        print(self.house)\n",
    "class Child(Parent):\n",
    "    def __init__(self,house=\"xyz\",car=\"BMW\"):\n",
    "        super().__init__(house)\n",
    "        self.car=car\n",
    "        print(self.car)\n",
    "\n",
    "obj=Child(\"bunglow\")"
   ]
  },
  {
   "cell_type": "code",
   "execution_count": 1,
   "id": "e66c7d36-ed3a-484c-b1f9-db2f384d93d5",
   "metadata": {},
   "outputs": [
    {
     "data": {
      "text/plain": [
       "'types of inheritance\\n    single level\\n    multiple level\\n    multiple inheritance\\n    hirarchy\\n    hybrid\\n'"
      ]
     },
     "execution_count": 1,
     "metadata": {},
     "output_type": "execute_result"
    }
   ],
   "source": [
    "\"\"\"types of inheritance\n",
    "    single level\n",
    "    multiple level\n",
    "    multiple inheritance\n",
    "    hirarchy\n",
    "    hybrid\n",
    "\"\"\""
   ]
  },
  {
   "cell_type": "code",
   "execution_count": 1,
   "id": "4196a0c9-9bef-4499-b2bf-06e5b66d926b",
   "metadata": {},
   "outputs": [
    {
     "name": "stdout",
     "output_type": "stream",
     "text": [
      "my namen is Grandpaa and i have a grand child\n"
     ]
    },
    {
     "ename": "AttributeError",
     "evalue": "'C' object has no attribute 'name'",
     "output_type": "error",
     "traceback": [
      "\u001b[1;31m---------------------------------------------------------------------------\u001b[0m",
      "\u001b[1;31mAttributeError\u001b[0m                            Traceback (most recent call last)",
      "Cell \u001b[1;32mIn[1], line 12\u001b[0m\n\u001b[0;32m      9\u001b[0m         \u001b[38;5;28mprint\u001b[39m(\u001b[38;5;124mf\u001b[39m\u001b[38;5;124m\"\u001b[39m\u001b[38;5;124mmy grand father namen is \u001b[39m\u001b[38;5;132;01m{\u001b[39;00m\u001b[38;5;28mself\u001b[39m\u001b[38;5;241m.\u001b[39mname\u001b[38;5;132;01m}\u001b[39;00m\u001b[38;5;124m and i love it\u001b[39m\u001b[38;5;124m\"\u001b[39m)\n\u001b[0;32m     11\u001b[0m obj\u001b[38;5;241m=\u001b[39mC(\u001b[38;5;124m\"\u001b[39m\u001b[38;5;124mGrandpaa\u001b[39m\u001b[38;5;124m\"\u001b[39m)\n\u001b[1;32m---> 12\u001b[0m \u001b[43mobj\u001b[49m\u001b[38;5;241;43m.\u001b[39;49m\u001b[43mshow1\u001b[49m\u001b[43m(\u001b[49m\u001b[43m)\u001b[49m        \n",
      "Cell \u001b[1;32mIn[1], line 6\u001b[0m, in \u001b[0;36mB.show1\u001b[1;34m(self)\u001b[0m\n\u001b[0;32m      5\u001b[0m \u001b[38;5;28;01mdef\u001b[39;00m \u001b[38;5;21mshow1\u001b[39m(\u001b[38;5;28mself\u001b[39m):\n\u001b[1;32m----> 6\u001b[0m     \u001b[38;5;28mprint\u001b[39m(\u001b[38;5;124mf\u001b[39m\u001b[38;5;124m\"\u001b[39m\u001b[38;5;124mmy father namen is \u001b[39m\u001b[38;5;132;01m{\u001b[39;00m\u001b[38;5;28;43mself\u001b[39;49m\u001b[38;5;241;43m.\u001b[39;49m\u001b[43mname\u001b[49m\u001b[38;5;132;01m}\u001b[39;00m\u001b[38;5;124m and i have a  child\u001b[39m\u001b[38;5;124m\"\u001b[39m)\n",
      "\u001b[1;31mAttributeError\u001b[0m: 'C' object has no attribute 'name'"
     ]
    }
   ],
   "source": [
    "class A:\n",
    "    def __init__(self,name):\n",
    "        print(f\"my namen is {name} and i have a grand child\")\n",
    "class B(A):\n",
    "    def show1(self):\n",
    "        print(f\"my father namen is {self.name} and i have a  child\")\n",
    "class C(B):\n",
    "    def show2(self):\n",
    "        print(f\"my grand father namen is {self.name} and i love it\")\n",
    "\n",
    "obj=C(\"Grandpaa\")\n",
    "obj.show1()        "
   ]
  },
  {
   "cell_type": "code",
   "execution_count": 11,
   "id": "cd4d3d48-2641-4e99-8a23-b76c3ff96e8c",
   "metadata": {},
   "outputs": [
    {
     "name": "stdout",
     "output_type": "stream",
     "text": [
      "student name : Imran\n",
      "class name TY B.Tech\n",
      "college name WIT\n"
     ]
    }
   ],
   "source": [
    "#multiple inheritance\n",
    "class ClassData:\n",
    "    def __init__(self,clsname):\n",
    "        self.clsname=clsname\n",
    "        print(f\"class name {self.clsname}\")\n",
    "class CollegeData:\n",
    "    def __init__(self,clgname):\n",
    "        self.clgname=clgname\n",
    "        print(f\"college name {self.clgname}\")\n",
    "class studentData(ClassData,CollegeData):\n",
    "    def __init__(self,name,clsname,clgname):\n",
    "        print(f\"student name : {name}\")\n",
    "        ClassData.__init__(self,clsname)\n",
    "        CollegeData.__init__(self,clgname)\n",
    "\n",
    "obj=studentData(\"Imran\",\"TY B.Tech\",\"WIT\")"
   ]
  },
  {
   "cell_type": "code",
   "execution_count": 16,
   "id": "6b898747-dbc4-4cf3-ad81-f31709dbac65",
   "metadata": {},
   "outputs": [
    {
     "name": "stdout",
     "output_type": "stream",
     "text": [
      "Addition of two numbers are 47\n"
     ]
    }
   ],
   "source": [
    "#Hierarchy\n",
    "class A:\n",
    "    def __init__(self,a):\n",
    "        self.a=a\n",
    "class B(A):\n",
    "    pass\n",
    "class C(A):\n",
    "    pass\n",
    "\n",
    "class D(A):\n",
    "    def __init__(self,a,b):\n",
    "        super().__init__(a)\n",
    "        print(f\"Addition of two numbers are {self.a+b}\")\n",
    "\n",
    "obj =D(45,2)"
   ]
  },
  {
   "cell_type": "code",
   "execution_count": 19,
   "id": "d9c7002f-e610-4afe-a3a8-df058e599cf3",
   "metadata": {},
   "outputs": [
    {
     "name": "stdout",
     "output_type": "stream",
     "text": [
      "I am student1\n",
      "I am student2\n",
      "I am student3\n",
      "I am student4\n",
      "I am the Teacher of student1,student2,student3,student4\n"
     ]
    }
   ],
   "source": [
    "#hybrid\n",
    "\n",
    "class student1:\n",
    "    def show1(self):\n",
    "        print(\"I am student1\")\n",
    "\n",
    "class student2(student1):\n",
    "    def show2(self):\n",
    "        print(\"I am student2\")\n",
    "class student3:\n",
    "    def show3(self):\n",
    "        print(\"I am student3\")\n",
    "class student4(student3):\n",
    "    def show4(self):\n",
    "        print(\"I am student4\")\n",
    "\n",
    "class Teacher(student2,student4):\n",
    "    def show(self):\n",
    "         print(\"I am the Teacher of student1,student2,student3,student4\")\n",
    "\n",
    "obj=Teacher()\n",
    "obj.show1()\n",
    "obj.show2()\n",
    "obj.show3()\n",
    "obj.show4()\n",
    "obj.show()\n"
   ]
  },
  {
   "cell_type": "code",
   "execution_count": 28,
   "id": "1d1b2293-48bf-4ad5-8c97-d553a3283153",
   "metadata": {},
   "outputs": [
    {
     "name": "stdout",
     "output_type": "stream",
     "text": [
      "element found at 3 index\n"
     ]
    },
    {
     "data": {
      "text/plain": [
       "'element is not present'"
      ]
     },
     "execution_count": 28,
     "metadata": {},
     "output_type": "execute_result"
    }
   ],
   "source": [
    "def search(arr,target):\n",
    "    for i in range(length(arr)):\n",
    "        if arr[i]== target:\n",
    "            return i \n",
    "    return -1\n",
    "\n",
    "arr =[10,20,30,40]\n",
    "target=40\n",
    "print"
   ]
  }
 ],
 "metadata": {
  "kernelspec": {
   "display_name": "Python 3 (ipykernel)",
   "language": "python",
   "name": "python3"
  },
  "language_info": {
   "codemirror_mode": {
    "name": "ipython",
    "version": 3
   },
   "file_extension": ".py",
   "mimetype": "text/x-python",
   "name": "python",
   "nbconvert_exporter": "python",
   "pygments_lexer": "ipython3",
   "version": "3.12.0"
  }
 },
 "nbformat": 4,
 "nbformat_minor": 5
}
