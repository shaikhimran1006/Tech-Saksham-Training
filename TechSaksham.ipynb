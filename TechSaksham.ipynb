{
 "cells": [
  {
   "cell_type": "code",
   "execution_count": 2,
   "id": "9b2c9595-6687-4f7d-a29a-10e420d71c93",
   "metadata": {},
   "outputs": [
    {
     "name": "stdout",
     "output_type": "stream",
     "text": [
      "****************************************************************************************************\n"
     ]
    }
   ],
   "source": [
    "print(\"*\"*100)"
   ]
  },
  {
   "cell_type": "code",
   "execution_count": 3,
   "id": "48262205-0f51-4d4c-aed6-03b2b1f5930f",
   "metadata": {},
   "outputs": [],
   "source": [
    "name=\"imran\""
   ]
  },
  {
   "cell_type": "code",
   "execution_count": 4,
   "id": "baacb86c-ec83-4c52-a908-facb1b4ebff7",
   "metadata": {},
   "outputs": [],
   "source": [
    "age=40"
   ]
  },
  {
   "cell_type": "code",
   "execution_count": 5,
   "id": "2be68de4-0b37-4809-aabe-a2746ed70b60",
   "metadata": {},
   "outputs": [
    {
     "name": "stdout",
     "output_type": "stream",
     "text": [
      "my name is imran  and age is 40\n"
     ]
    }
   ],
   "source": [
    "print(\"my name is\",name,\" and age is\",age)"
   ]
  },
  {
   "cell_type": "code",
   "execution_count": 6,
   "id": "9a9e0984-a255-4287-b088-394ca86edd67",
   "metadata": {},
   "outputs": [
    {
     "name": "stdout",
     "output_type": "stream",
     "text": [
      "my name is imran and age is 40\n"
     ]
    }
   ],
   "source": [
    "print(\"my name is {} and age is {}\".format(name,age))"
   ]
  },
  {
   "cell_type": "code",
   "execution_count": 7,
   "id": "531b5b10-dfe8-4717-8aaf-58497f06b455",
   "metadata": {},
   "outputs": [
    {
     "name": "stdout",
     "output_type": "stream",
     "text": [
      "my name is imran and my age is 40\n"
     ]
    }
   ],
   "source": [
    "print(\"my name is %s and my age is %d\"%(name,age))"
   ]
  },
  {
   "cell_type": "code",
   "execution_count": 8,
   "id": "ff8423e1-d369-4142-86ea-c6f77dc64b7c",
   "metadata": {},
   "outputs": [
    {
     "name": "stdout",
     "output_type": "stream",
     "text": [
      "my name is imran and age is 40\n"
     ]
    }
   ],
   "source": [
    "print(f\"my name is {name} and age is {age}\");"
   ]
  },
  {
   "cell_type": "code",
   "execution_count": 9,
   "id": "5b693d98-2c0e-4e02-818f-b43c443277f3",
   "metadata": {},
   "outputs": [
    {
     "name": "stdout",
     "output_type": "stream",
     "text": [
      "narmi\n"
     ]
    }
   ],
   "source": [
    "print(name[::-1])"
   ]
  },
  {
   "cell_type": "code",
   "execution_count": 10,
   "id": "aa03bcfa-a6ca-4514-82ac-d8e2b75b9d19",
   "metadata": {},
   "outputs": [],
   "source": [
    "data=\"my name is something\""
   ]
  },
  {
   "cell_type": "code",
   "execution_count": 11,
   "id": "51458204-972b-406e-b767-52e067062fa2",
   "metadata": {},
   "outputs": [
    {
     "name": "stdout",
     "output_type": "stream",
     "text": [
      "name\n"
     ]
    }
   ],
   "source": [
    "print(data[3:7:1])"
   ]
  },
  {
   "cell_type": "code",
   "execution_count": 12,
   "id": "75ec055b-7c32-4b4b-8e6e-58f253c28a2e",
   "metadata": {},
   "outputs": [
    {
     "name": "stdout",
     "output_type": "stream",
     "text": [
      "name\n"
     ]
    }
   ],
   "source": [
    "print(data[-17:-13:1])"
   ]
  },
  {
   "cell_type": "raw",
   "id": "e14a5851-777d-4764-bc36-6f1396857a40",
   "metadata": {},
   "source": [
    "print(name.upper())"
   ]
  },
  {
   "cell_type": "code",
   "execution_count": 13,
   "id": "bf87a481-c1ee-4146-8740-a743461a2dee",
   "metadata": {},
   "outputs": [
    {
     "name": "stdout",
     "output_type": "stream",
     "text": [
      "IMRAN\n"
     ]
    }
   ],
   "source": [
    "print(name.upper())"
   ]
  },
  {
   "cell_type": "code",
   "execution_count": 14,
   "id": "8d6078e3-bd07-4e9f-be22-302874abee28",
   "metadata": {},
   "outputs": [
    {
     "name": "stdout",
     "output_type": "stream",
     "text": [
      "MY NAME IS SOMETHING\n"
     ]
    }
   ],
   "source": [
    "print(data.upper())"
   ]
  },
  {
   "cell_type": "code",
   "execution_count": 15,
   "id": "6de56b8d-43d7-4491-a65c-a90063735d15",
   "metadata": {},
   "outputs": [],
   "source": [
    "b=[1,2,3,\"imran\",\"irfan\"]"
   ]
  },
  {
   "cell_type": "code",
   "execution_count": 16,
   "id": "cfcc90a2-53d0-4825-8d44-f11ebcc81c6f",
   "metadata": {},
   "outputs": [
    {
     "name": "stdout",
     "output_type": "stream",
     "text": [
      "[1, 2, 3, 'imran', 'irfan']\n"
     ]
    }
   ],
   "source": [
    "print(b)"
   ]
  },
  {
   "cell_type": "code",
   "execution_count": 17,
   "id": "1d9ae7b3-b852-4c96-a40e-fe37affe1ee4",
   "metadata": {},
   "outputs": [
    {
     "name": "stdout",
     "output_type": "stream",
     "text": [
      "[1, 'imran', 'irfan']\n"
     ]
    }
   ],
   "source": [
    "del b[1]\n",
    "b.remove(3)\n",
    "print(b)"
   ]
  },
  {
   "cell_type": "code",
   "execution_count": 18,
   "id": "14d5c5e7-e3e3-4f4e-a12a-cbcffdfd36ba",
   "metadata": {},
   "outputs": [
    {
     "data": {
      "text/plain": [
       "'irfan'"
      ]
     },
     "execution_count": 18,
     "metadata": {},
     "output_type": "execute_result"
    }
   ],
   "source": [
    "b.pop()"
   ]
  },
  {
   "cell_type": "code",
   "execution_count": 19,
   "id": "310d75b4-cf8a-4b4e-9aee-bfc562701392",
   "metadata": {},
   "outputs": [],
   "source": [
    "b.insert(2,\"WIT\")"
   ]
  },
  {
   "cell_type": "code",
   "execution_count": 20,
   "id": "fef7251d-678e-4565-aadb-288e97c3e1b5",
   "metadata": {},
   "outputs": [
    {
     "name": "stdout",
     "output_type": "stream",
     "text": [
      "[1, 'imran', 'WIT']\n"
     ]
    }
   ],
   "source": [
    "print(b)"
   ]
  },
  {
   "cell_type": "code",
   "execution_count": 21,
   "id": "8a9e66ec-63bf-4f97-9cf7-95474ddf9394",
   "metadata": {},
   "outputs": [],
   "source": [
    "b.append(\"imr\")"
   ]
  },
  {
   "cell_type": "code",
   "execution_count": 22,
   "id": "eac2b1b6-f28f-40dd-ac8e-739dad72849e",
   "metadata": {},
   "outputs": [],
   "source": [
    "a=[[[\"a\",[1,2,[[0,2,'bb',[12,11,33]]]]]]]"
   ]
  },
  {
   "cell_type": "code",
   "execution_count": 23,
   "id": "af0a3f0d-49c0-44a3-acdc-f2f4b570818b",
   "metadata": {},
   "outputs": [
    {
     "name": "stdout",
     "output_type": "stream",
     "text": [
      "[[['a', [1, 2, [[0, 2, 'bigboss', [12, 11, 33]]]]]]]\n"
     ]
    }
   ],
   "source": [
    "a[0][0][1][2][0][2] = 'bigboss'\n",
    "print(a)\n"
   ]
  },
  {
   "cell_type": "code",
   "execution_count": 24,
   "id": "4ca6e422-aa20-430e-85ce-6580fd46bc67",
   "metadata": {},
   "outputs": [],
   "source": [
    "c=[1,2,[0,[[['xyz',[0,99,4,['a','b',[1,2,3,[['yes','no',[[5]]]]]]]]]]]]"
   ]
  },
  {
   "cell_type": "code",
   "execution_count": 25,
   "id": "5e0e2c9f-38d4-4807-9373-2a661e386572",
   "metadata": {},
   "outputs": [],
   "source": [
    "####touple#####"
   ]
  },
  {
   "cell_type": "code",
   "execution_count": 26,
   "id": "6ebe86ea-7afa-424b-9b46-06ff67072713",
   "metadata": {},
   "outputs": [
    {
     "name": "stdout",
     "output_type": "stream",
     "text": [
      "(1, 2, 3, 4, 5, 'abc', 'xyz')\n"
     ]
    }
   ],
   "source": [
    "a=tuple((1,2,3,4,5,'abc','xyz'))\n",
    "print (a)"
   ]
  },
  {
   "cell_type": "code",
   "execution_count": 27,
   "id": "59f39d1f-3dd8-4c19-be51-5eda37048136",
   "metadata": {},
   "outputs": [],
   "source": [
    "b=((1,5,7,8,))"
   ]
  },
  {
   "cell_type": "code",
   "execution_count": 28,
   "id": "1ef0fb73-0351-40ba-a0f2-c50df5c5a48a",
   "metadata": {},
   "outputs": [
    {
     "name": "stdout",
     "output_type": "stream",
     "text": [
      "(1, 2, 3, 4, 5, 'abc', 'xyz', 1, 5, 7, 8)\n"
     ]
    }
   ],
   "source": [
    "print(a+b)"
   ]
  },
  {
   "cell_type": "code",
   "execution_count": 29,
   "id": "c02fae6a-e76b-44fa-a42d-a16d3f14d7a7",
   "metadata": {},
   "outputs": [],
   "source": [
    "a=((1,))"
   ]
  },
  {
   "cell_type": "code",
   "execution_count": 30,
   "id": "14a7e141-1f65-4fc2-bf6c-5f8d1b8e16d0",
   "metadata": {},
   "outputs": [
    {
     "data": {
      "text/plain": [
       "tuple"
      ]
     },
     "execution_count": 30,
     "metadata": {},
     "output_type": "execute_result"
    }
   ],
   "source": [
    "type(a)"
   ]
  },
  {
   "cell_type": "code",
   "execution_count": 31,
   "id": "498d280b-aaed-4e51-ada6-5ef91da70c52",
   "metadata": {},
   "outputs": [],
   "source": [
    "a=('rohit','Mumbai',55)\n",
    "(name,city,age)=a"
   ]
  },
  {
   "cell_type": "code",
   "execution_count": 32,
   "id": "4b2ff57e-07d7-4e5c-98ff-34efe78919b0",
   "metadata": {},
   "outputs": [
    {
     "data": {
      "text/plain": [
       "'rohit'"
      ]
     },
     "execution_count": 32,
     "metadata": {},
     "output_type": "execute_result"
    }
   ],
   "source": [
    "name"
   ]
  },
  {
   "cell_type": "code",
   "execution_count": 33,
   "id": "f399b72c-43d5-4d05-a8f2-de8c72afe4e9",
   "metadata": {},
   "outputs": [
    {
     "data": {
      "text/plain": [
       "55"
      ]
     },
     "execution_count": 33,
     "metadata": {},
     "output_type": "execute_result"
    }
   ],
   "source": [
    "age"
   ]
  },
  {
   "cell_type": "code",
   "execution_count": 34,
   "id": "ef51f0c2-896b-4a70-b1bd-066c93b12f16",
   "metadata": {},
   "outputs": [],
   "source": [
    "a=[1,2,[0,([['xyz',(0,99,4,['a','b',[1,2,3,['yes',('no',),[[5]]]]])]])]]"
   ]
  },
  {
   "cell_type": "code",
   "execution_count": 35,
   "id": "e078e25a-1056-4357-82a7-19a9c36c8deb",
   "metadata": {},
   "outputs": [],
   "source": [
    "b=a[2][1][0][1][3][2][3][1] "
   ]
  },
  {
   "cell_type": "code",
   "execution_count": 36,
   "id": "334e13ca-22cf-4fd5-a997-5f2d19555ce0",
   "metadata": {},
   "outputs": [
    {
     "data": {
      "text/plain": [
       "('no',)"
      ]
     },
     "execution_count": 36,
     "metadata": {},
     "output_type": "execute_result"
    }
   ],
   "source": [
    "b"
   ]
  },
  {
   "cell_type": "code",
   "execution_count": 37,
   "id": "69c49778-a735-497f-a39b-7c0227938190",
   "metadata": {},
   "outputs": [
    {
     "name": "stdout",
     "output_type": "stream",
     "text": [
      "{'name': 'rohit', 'age': 60}\n",
      "<class 'dict'>\n",
      "2\n"
     ]
    }
   ],
   "source": [
    "# dectinary\n",
    "a={'name':\"rohit\",'age':60}\n",
    "print(a)\n",
    "print(type(a))\n",
    "print(len(a))"
   ]
  },
  {
   "cell_type": "code",
   "execution_count": 38,
   "id": "2218c50d-0d44-492e-89dc-71086c9f1ec9",
   "metadata": {},
   "outputs": [
    {
     "data": {
      "text/plain": [
       "'rohit'"
      ]
     },
     "execution_count": 38,
     "metadata": {},
     "output_type": "execute_result"
    }
   ],
   "source": [
    "a.get('name')"
   ]
  },
  {
   "cell_type": "code",
   "execution_count": 39,
   "id": "e50fd62e-e7ee-474b-9e25-aa8105da339e",
   "metadata": {},
   "outputs": [],
   "source": [
    "a.update({'year':1992})"
   ]
  },
  {
   "cell_type": "code",
   "execution_count": 40,
   "id": "90c6043d-eb5b-4a38-afaa-bf45a7349cc7",
   "metadata": {},
   "outputs": [
    {
     "data": {
      "text/plain": [
       "{'name': 'rohit', 'age': 60, 'year': 1992}"
      ]
     },
     "execution_count": 40,
     "metadata": {},
     "output_type": "execute_result"
    }
   ],
   "source": [
    "a"
   ]
  },
  {
   "cell_type": "code",
   "execution_count": 41,
   "id": "bb869727-2ed5-4d21-bdc4-4dcfb6c92ff6",
   "metadata": {},
   "outputs": [],
   "source": [
    "del a['name']"
   ]
  },
  {
   "cell_type": "code",
   "execution_count": 42,
   "id": "ecdebbd7-7dc8-44d5-8f8e-42577007b3e1",
   "metadata": {},
   "outputs": [
    {
     "data": {
      "text/plain": [
       "{'age': 60, 'year': 1992}"
      ]
     },
     "execution_count": 42,
     "metadata": {},
     "output_type": "execute_result"
    }
   ],
   "source": [
    "a"
   ]
  },
  {
   "cell_type": "code",
   "execution_count": 43,
   "id": "81e7d899-76c6-4cd2-85cd-65697ef4f803",
   "metadata": {},
   "outputs": [],
   "source": [
    "a={'name':{'age':33,'data':[1,2,3,5,7,{'data':{'new':['yes']}}]}}"
   ]
  },
  {
   "cell_type": "code",
   "execution_count": 44,
   "id": "373d9f06-0939-4088-bdff-3ac53945fbfa",
   "metadata": {},
   "outputs": [
    {
     "data": {
      "text/plain": [
       "{'name': {'age': 33, 'data': [1, 2, 3, 5, 7, {'data': {'new': ['yes']}}]}}"
      ]
     },
     "execution_count": 44,
     "metadata": {},
     "output_type": "execute_result"
    }
   ],
   "source": [
    "a"
   ]
  },
  {
   "cell_type": "code",
   "execution_count": 47,
   "id": "9b2136ac-2059-4d16-974f-28c75ebf3a16",
   "metadata": {},
   "outputs": [],
   "source": [
    "b=a['name']['data'][5]['data']['new'][0]='WIT'"
   ]
  },
  {
   "cell_type": "code",
   "execution_count": 49,
   "id": "479cb300-3ba8-4dbb-9771-12ae906942a4",
   "metadata": {},
   "outputs": [
    {
     "data": {
      "text/plain": [
       "{'name': {'age': 33, 'data': [1, 2, 3, 5, 7, {'data': {'new': ['WIT']}}]}}"
      ]
     },
     "execution_count": 49,
     "metadata": {},
     "output_type": "execute_result"
    }
   ],
   "source": [
    "a"
   ]
  },
  {
   "cell_type": "code",
   "execution_count": 50,
   "id": "c14be296-05ab-434b-b17e-1128e5fc6123",
   "metadata": {},
   "outputs": [],
   "source": [
    "a={'name': 'rohit', 'age': 60, 'year': 1992}"
   ]
  },
  {
   "cell_type": "code",
   "execution_count": 51,
   "id": "076f999f-37fb-48f3-9b5b-75416a4397b0",
   "metadata": {},
   "outputs": [
    {
     "data": {
      "text/plain": [
       "dict_values(['rohit', 60, 1992])"
      ]
     },
     "execution_count": 51,
     "metadata": {},
     "output_type": "execute_result"
    }
   ],
   "source": [
    "a.values()"
   ]
  },
  {
   "cell_type": "code",
   "execution_count": 52,
   "id": "ca8571f7-1249-4671-99c5-5117c20cd72e",
   "metadata": {},
   "outputs": [
    {
     "data": {
      "text/plain": [
       "dict_keys(['name', 'age', 'year'])"
      ]
     },
     "execution_count": 52,
     "metadata": {},
     "output_type": "execute_result"
    }
   ],
   "source": [
    "a.keys()"
   ]
  },
  {
   "cell_type": "code",
   "execution_count": 53,
   "id": "179874c9-579c-468a-bf16-3949f732dd2a",
   "metadata": {},
   "outputs": [
    {
     "data": {
      "text/plain": [
       "dict_items([('name', 'rohit'), ('age', 60), ('year', 1992)])"
      ]
     },
     "execution_count": 53,
     "metadata": {},
     "output_type": "execute_result"
    }
   ],
   "source": [
    "a.items()"
   ]
  },
  {
   "cell_type": "code",
   "execution_count": 54,
   "id": "f9eef490-bbb4-4699-90be-b38cc7b66946",
   "metadata": {},
   "outputs": [],
   "source": [
    "#set\n",
    "#unordered#no duplicates"
   ]
  },
  {
   "cell_type": "code",
   "execution_count": 55,
   "id": "bfe7f3a1-4824-46f4-8632-df399c35ab48",
   "metadata": {},
   "outputs": [
    {
     "name": "stdout",
     "output_type": "stream",
     "text": [
      "('abc', 1, 'xyz', 'a', 'b')\n"
     ]
    }
   ],
   "source": [
    "a=(\"abc\",1,\"xyz\",\"a\",\"b\")\n",
    "print(a)"
   ]
  },
  {
   "cell_type": "code",
   "execution_count": 58,
   "id": "c6fa8dd4-21ad-478b-8255-bf714b66dbf6",
   "metadata": {},
   "outputs": [
    {
     "name": "stdout",
     "output_type": "stream",
     "text": [
      "1\n",
      "2\n",
      "3\n",
      "4\n",
      "5\n",
      "6\n",
      "7\n",
      "8\n",
      "9\n",
      "while end\n",
      "0\n",
      "1\n",
      "2\n",
      "3\n",
      "4\n",
      "5\n",
      "6\n",
      "7\n",
      "8\n",
      "9\n"
     ]
    }
   ],
   "source": [
    "i=1\n",
    "while i<10:\n",
    "    print(i)\n",
    "    i+=1\n",
    "print(\"while end\")\n",
    "for i in range(10):\n",
    "    print(i)"
   ]
  },
  {
   "cell_type": "code",
   "execution_count": 62,
   "id": "3c8f69f0-2f59-4139-8bfa-11deb3d56234",
   "metadata": {},
   "outputs": [],
   "source": [
    "a=[1,2,3,4,6,7,8,9,10]\n",
    "b=[]\n",
    "for i in a:\n",
    "    if i%2==0:\n",
    "        b.append(i)\n",
    "        "
   ]
  },
  {
   "cell_type": "code",
   "execution_count": 63,
   "id": "6721a568-d1e6-4d97-85be-ff17f22ed246",
   "metadata": {},
   "outputs": [
    {
     "data": {
      "text/plain": [
       "[2, 4, 6, 8, 10]"
      ]
     },
     "execution_count": 63,
     "metadata": {},
     "output_type": "execute_result"
    }
   ],
   "source": [
    "b"
   ]
  },
  {
   "cell_type": "code",
   "execution_count": 68,
   "id": "5743ce9d-e160-4439-8136-56aaa407b8de",
   "metadata": {},
   "outputs": [],
   "source": [
    "a=[18,20,3,4,55,66,1,22]"
   ]
  },
  {
   "cell_type": "code",
   "execution_count": 75,
   "id": "def7acef-1a67-4f1c-a792-f4ac09b319a6",
   "metadata": {},
   "outputs": [],
   "source": [
    "#using bubble sort\n",
    "n=len(a)\n",
    "for i in range(n - 1):\n",
    "    for j in range(n - i - 1):\n",
    "        if a[j] > a[j + 1]:\n",
    "            a[j], a[j + 1] = a[j + 1], a[j]\n"
   ]
  },
  {
   "cell_type": "code",
   "execution_count": 76,
   "id": "f676792d-a082-47dc-bc58-b00a37b68362",
   "metadata": {},
   "outputs": [],
   "source": [
    "#using temp var\n",
    "for i in range(len(a)):\n",
    "    for j in range(len(a)):\n",
    "        if a[i]>=a[j]:\n",
    "            t=a[i]\n",
    "            a[i]=a[j]\n",
    "            a[j]=t"
   ]
  },
  {
   "cell_type": "code",
   "execution_count": 77,
   "id": "15e42099-b972-4c22-9db5-293f5c650af7",
   "metadata": {},
   "outputs": [
    {
     "data": {
      "text/plain": [
       "[66, 55, 22, 20, 18, 4, 3, 1]"
      ]
     },
     "execution_count": 77,
     "metadata": {},
     "output_type": "execute_result"
    }
   ],
   "source": [
    "a"
   ]
  },
  {
   "cell_type": "code",
   "execution_count": 81,
   "id": "3d1d50dd-f5cb-44e2-9b2b-d45173559c32",
   "metadata": {},
   "outputs": [
    {
     "name": "stdout",
     "output_type": "stream",
     "text": [
      "[1]\n",
      "[1, 2]\n",
      "[1, 2, 34]\n",
      "[1, 2, 34, 69]\n",
      "[1, 2, 34, 69, 77]\n",
      "[1, 2, 34, 69, 77, 85]\n",
      "[1, 2, 34, 69, 77, 85, 88]\n",
      "[1, 1, 2, 2, 34, 69, 77, 85, 88]\n"
     ]
    }
   ],
   "source": [
    "a=[88,34,1,2,2,1,85,77,69]\n",
    "b=[]\n",
    "for i in range(len(a)):\n",
    "    for j in range(len(a)):\n",
    "        if a[i]<=a[j]:\n",
    "            t=a[i]\n",
    "            a[i]=a[j]\n",
    "            a[j]=t\n",
    "for i in a:\n",
    "    if i not in b:\n",
    "        b.append(i)\n",
    "        print(b)\n",
    "print(a)"
   ]
  },
  {
   "cell_type": "code",
   "execution_count": 90,
   "id": "1f78c5a6-8413-46a0-90f0-7542b936af0b",
   "metadata": {},
   "outputs": [
    {
     "name": "stdout",
     "output_type": "stream",
     "text": [
      "A \n",
      "B B \n",
      "C C C \n",
      "D D D D \n",
      "A\n",
      "BB\n",
      "CCC\n",
      "DDDD\n"
     ]
    }
   ],
   "source": [
    "a=[\"A\",\"B\",\"C\",\"D\"]\n",
    "for row in range(len(a)):\n",
    "    for col in range(row+1):\n",
    "        print(a[row],end=\" \")\n",
    "    print()\n",
    "c=1\n",
    "for i in range(len(a)):\n",
    "    print(a[i]*c)\n",
    "    c=c+1"
   ]
  },
  {
   "cell_type": "code",
   "execution_count": 91,
   "id": "5a2f2777-49cc-47b5-bb5f-c3c948ed6e16",
   "metadata": {},
   "outputs": [
    {
     "name": "stdin",
     "output_type": "stream",
     "text": [
      "Enter your name imran\n"
     ]
    },
    {
     "name": "stdout",
     "output_type": "stream",
     "text": [
      "imran\n"
     ]
    }
   ],
   "source": [
    "u1=input(\"Enter your name\")\n",
    "print(u1)"
   ]
  },
  {
   "cell_type": "code",
   "execution_count": 100,
   "id": "f1693a93-302b-4613-9259-efb288b9af1e",
   "metadata": {},
   "outputs": [
    {
     "name": "stdin",
     "output_type": "stream",
     "text": [
      "enter your roll no 420\n",
      "enter your mother name abc\n"
     ]
    }
   ],
   "source": [
    "seat=int(input(\"enter your roll no\"))\n",
    "mname=input(\"enter your mother name\")\n",
    "\n",
    "if seat==\"420\" and mname==\"abc\" :\n",
    "    math=40\n",
    "    phy=40\n",
    "    che=86\n",
    "    avg=(math+che+phy)/5\n",
    "    print(f\"Math:{math}/n Chemistry:{che} /n physics:{phy} \\n\")\n",
    "\n",
    "    \n",
    "    "
   ]
  },
  {
   "cell_type": "code",
   "execution_count": 101,
   "id": "cacf663b-89f3-46b8-bc9f-da9efdfa6243",
   "metadata": {},
   "outputs": [],
   "source": [
    "#ATM MANAGEMENT SYSTEM"
   ]
  },
  {
   "cell_type": "code",
   "execution_count": 1,
   "id": "a3633cb1-66c1-44b6-b7f9-ac72a058675d",
   "metadata": {},
   "outputs": [
    {
     "name": "stdout",
     "output_type": "stream",
     "text": [
      "\n",
      "Welcome to the ATM\n",
      "1. Check Balance\n",
      "2. Deposit Money\n",
      "3. Withdraw Money\n",
      "4. Display Notes\n",
      "5. Exit\n"
     ]
    },
    {
     "name": "stdin",
     "output_type": "stream",
     "text": [
      "Enter your choice (1-5):  3\n",
      "Enter amount to withdraw:  1600\n"
     ]
    },
    {
     "name": "stdout",
     "output_type": "stream",
     "text": [
      "Withdrawal successful! Your new balance is: 8400\n",
      "Withdrawn notes:\n",
      "500 INR: 3 notes\n",
      "100 INR: 1 notes\n",
      "\n",
      "Welcome to the ATM\n",
      "1. Check Balance\n",
      "2. Deposit Money\n",
      "3. Withdraw Money\n",
      "4. Display Notes\n",
      "5. Exit\n"
     ]
    },
    {
     "name": "stdin",
     "output_type": "stream",
     "text": [
      "Enter your choice (1-5):  5\n"
     ]
    },
    {
     "name": "stdout",
     "output_type": "stream",
     "text": [
      "Thank you for using the ATM. Goodbye!\n"
     ]
    }
   ],
   "source": [
    "balance = 10000  # Initial balance\n",
    "notes = {500: 10, 100: 20, 50: 30}  # ATM contains 500, 100, and 50 denomination notes\n",
    "\n",
    "def display_notes():\n",
    "    print(\"ATM has the following notes:\")\n",
    "    for denom, count in sorted(notes.items(), reverse=True):\n",
    "        print(f\"{denom} INR: {count} notes\")\n",
    "\n",
    "def withdraw_notes(amount):\n",
    "    global balance\n",
    "    if amount > balance:\n",
    "        print(\"Insufficient balance!\")\n",
    "        return\n",
    "    \n",
    "    withdrawn_notes = {}\n",
    "    for denom in sorted(notes.keys(), reverse=True):\n",
    "        if amount >= denom:\n",
    "            num_notes = min(amount // denom, notes[denom])\n",
    "            if num_notes > 0:\n",
    "                withdrawn_notes[denom] = num_notes\n",
    "                amount -= denom * num_notes\n",
    "                notes[denom] -= num_notes\n",
    "    \n",
    "    if amount == 0:\n",
    "        balance -= sum(denom * count for denom, count in withdrawn_notes.items())\n",
    "        print(\"Withdrawal successful! Your new balance is:\", balance)\n",
    "        print(\"Withdrawn notes:\")\n",
    "        for denom, count in withdrawn_notes.items():\n",
    "            print(f\"{denom} INR: {count} notes\")\n",
    "    else:\n",
    "        print(\"Unable to dispense the exact amount with available notes.\")\n",
    "        for denom, count in withdrawn_notes.items():\n",
    "            notes[denom] += count  # Restore notes since withdrawal failed\n",
    "\n",
    "while True:\n",
    "    print(\"\\nWelcome to the ATM\")\n",
    "    print(\"1. Check Balance\")\n",
    "    print(\"2. Deposit Money\")\n",
    "    print(\"3. Withdraw Money\")\n",
    "    print(\"4. Display Notes\")\n",
    "    print(\"5. Exit\")\n",
    "    \n",
    "    choice = int(input(\"Enter your choice (1-5): \"))\n",
    "    \n",
    "    if choice == 1:\n",
    "        print(\"Your balance is:\", balance)\n",
    "    \n",
    "    elif choice == 2:\n",
    "        amount = int(input(\"Enter amount to deposit: \"))\n",
    "        if amount > 0:\n",
    "            balance += amount  # Using basic '+' operator\n",
    "            print(\"Deposit successful! Your new balance is:\", balance)\n",
    "        else:\n",
    "            print(\"Invalid amount!\")\n",
    "    \n",
    "    elif choice == 3:\n",
    "        amount = int(input(\"Enter amount to withdraw: \"))\n",
    "        withdraw_notes(amount)\n",
    "    \n",
    "    elif choice == 4:\n",
    "        display_notes()\n",
    "    \n",
    "    elif choice == 5:\n",
    "        print(\"Thank you for using the ATM. Goodbye!\")\n",
    "        break\n",
    "    \n",
    "    else:\n",
    "        print(\"Invalid choice! Please try again.\")\n"
   ]
  },
  {
   "cell_type": "code",
   "execution_count": 11,
   "id": "a32aea99-644e-47a2-93d4-de5278d88fd4",
   "metadata": {},
   "outputs": [
    {
     "name": "stdin",
     "output_type": "stream",
     "text": [
      "enter the amount 12300\n",
      "enter your pin 258\n"
     ]
    },
    {
     "name": "stdout",
     "output_type": "stream",
     "text": [
      "Recived 24 notes of 500\n",
      "Recived 1 notes of 200\n",
      "Recived 1 notes of 100\n"
     ]
    }
   ],
   "source": [
    "amt=int(input(\"enter the amount\"))\n",
    "pin=int(input(\"enter your pin\"))\n",
    "\n",
    "pinn=[123,456,258,312,412]\n",
    "\n",
    "for i in pinn:\n",
    "    if pin==i:\n",
    "        if amt%100 ==0 :\n",
    "            if amt>=500:\n",
    "                notes=amt//500\n",
    "                print(f\"Recived {notes} notes of 500\")\n",
    "                amt=amt%500\n",
    "            if amt>=200:\n",
    "                notes=amt//200\n",
    "                print(f\"Recived {notes} notes of 200\")\n",
    "                amt=amt%200\n",
    "            if amt>=100:\n",
    "                notes=amt//100\n",
    "                print(f\"Recived {notes} notes of 100\")\n",
    "        else:\n",
    "            print(\"AMOUNT SHOULD BE MULTIPLE OF 100\")\n",
    "        break"
   ]
  },
  {
   "cell_type": "code",
   "execution_count": 1,
   "id": "242e3f44-7afc-4e20-9a23-da106c0d2776",
   "metadata": {},
   "outputs": [],
   "source": [
    "# findding palindrom"
   ]
  },
  {
   "cell_type": "code",
   "execution_count": 8,
   "id": "be00d5b1-f1eb-4071-8d79-5fde22588321",
   "metadata": {},
   "outputs": [
    {
     "name": "stdin",
     "output_type": "stream",
     "text": [
      "enter the number 12321\n"
     ]
    },
    {
     "name": "stdout",
     "output_type": "stream",
     "text": [
      "Palindrom\n"
     ]
    }
   ],
   "source": [
    "a= int(input(\"enter the number\"))\n",
    "n=a\n",
    "r=0\n",
    "while n!=0:\n",
    "    r=r*10+(n%10)\n",
    "    n=n//10\n",
    "if a==r:\n",
    "    print( \"Palindrom\")\n",
    "else:\n",
    "    print(\"not palindrom\")"
   ]
  },
  {
   "cell_type": "code",
   "execution_count": 1,
   "id": "d159240f-3dfe-4d6f-8066-6d243d0b8758",
   "metadata": {},
   "outputs": [
    {
     "name": "stdin",
     "output_type": "stream",
     "text": [
      "enter the number 153\n"
     ]
    },
    {
     "name": "stdout",
     "output_type": "stream",
     "text": [
      "Armstrong\n"
     ]
    }
   ],
   "source": [
    "a= int(input(\"enter the number\"))\n",
    "temp=a\n",
    "sum_power=0\n",
    "l=len(str(a))\n",
    "\n",
    "while temp>0:\n",
    "    sum_power+= (temp%10)**l\n",
    "    temp//=10\n",
    "if sum_power==a:\n",
    "    print(\"Armstrong\")\n",
    "else:\n",
    "    print(\"not Armstrong\")"
   ]
  },
  {
   "cell_type": "code",
   "execution_count": 8,
   "id": "13dcf6d4-5f03-4ea4-8c23-def23dfdb5f4",
   "metadata": {},
   "outputs": [
    {
     "name": "stdin",
     "output_type": "stream",
     "text": [
      "enter the number 153\n"
     ]
    },
    {
     "name": "stdout",
     "output_type": "stream",
     "text": [
      "armstrong\n"
     ]
    }
   ],
   "source": [
    "#armstrong\n",
    "a=int(input(\"enter the number\"))\n",
    "temp=a\n",
    "l=len(str(a))\n",
    "n=0\n",
    "while a!=0:\n",
    "    r=a%10\n",
    "    n=n+(r)**l\n",
    "    a=a//10\n",
    "if temp==n:\n",
    "    print(\"armstrong\")\n",
    "else:\n",
    "    print(\"not armstrong\")"
   ]
  },
  {
   "cell_type": "code",
   "execution_count": 10,
   "id": "bace8931-25f4-4e70-a160-3359107db704",
   "metadata": {},
   "outputs": [
    {
     "name": "stdin",
     "output_type": "stream",
     "text": [
      "enter the number 5\n"
     ]
    },
    {
     "name": "stdout",
     "output_type": "stream",
     "text": [
      "it is prime\n"
     ]
    }
   ],
   "source": [
    "#prime or not\n",
    "a=int(input(\"enter the number\"))\n",
    "flag=False\n",
    "if (a==0) and (a==1):\n",
    "    print(\"not a prime number\")\n",
    "else:\n",
    "    for i in range(2,n):\n",
    "        if(n%i==0):\n",
    "            flag=True\n",
    "            break\n",
    "if flag:\n",
    "    print(\"it is prime\")\n",
    "else:\n",
    "    print(\"not prime\")"
   ]
  },
  {
   "cell_type": "code",
   "execution_count": null,
   "id": "696583ee-e791-44aa-aeec-f8b2b35e4522",
   "metadata": {},
   "outputs": [],
   "source": [
    "n=1\n",
    "lt=[]\n",
    "while n<=100:\n",
    "    i=2\n",
    "    while i<n:\n",
    "        r=n%i\n",
    "        if r==0:\n",
    "            break\n",
    "        i+1\n",
    "    if n==i:\n",
    "        lt.append(i)\n",
    "    n+=1\n",
    "print(lt)"
   ]
  },
  {
   "cell_type": "code",
   "execution_count": null,
   "id": "40229770-9a7a-4768-92e1-3d12a07db5d6",
   "metadata": {},
   "outputs": [],
   "source": [
    "n=1\n",
    "lt=[]\n",
    "while n<=100:\n",
    "    i=2\n",
    "    while i<n:\n",
    "        r=n%i\n",
    "        if r==0:\n",
    "            break\n",
    "        i+1\n",
    "    if n==i:\n",
    "        lt.append(i)\n",
    "    n+=1\n",
    "print(lt)"
   ]
  },
  {
   "cell_type": "code",
   "execution_count": 1,
   "id": "0a9b30eb-8847-42e0-97d0-f1fcd69082a4",
   "metadata": {},
   "outputs": [],
   "source": [
    "#pattern"
   ]
  },
  {
   "cell_type": "code",
   "execution_count": 2,
   "id": "cb15647b-1574-4f93-986f-22ca02827b67",
   "metadata": {},
   "outputs": [
    {
     "name": "stdout",
     "output_type": "stream",
     "text": [
      "hell0\n"
     ]
    }
   ],
   "source": [
    "print(\"hell0\")"
   ]
  },
  {
   "cell_type": "code",
   "execution_count": 23,
   "id": "ea571b3b-aad9-4777-ad14-6860341af6e9",
   "metadata": {},
   "outputs": [
    {
     "name": "stdin",
     "output_type": "stream",
     "text": [
      "Enter the number of rows:  10\n"
     ]
    },
    {
     "name": "stdout",
     "output_type": "stream",
     "text": [
      "         a\n",
      "        bbb\n",
      "       ccccc\n",
      "      ddddddd\n",
      "     eeeeeeeee\n",
      "    fffffffffff\n",
      "   ggggggggggggg\n",
      "  hhhhhhhhhhhhhhh\n",
      " iiiiiiiiiiiiiiiii\n",
      "jjjjjjjjjjjjjjjjjjj\n"
     ]
    }
   ],
   "source": [
    "n= int(input(\"Enter the number of rows: \"))\n",
    "i=0\n",
    "while i<n:\n",
    "    ch = chr(97 + i)  \n",
    "    print(\" \" * (n - i - 1) + ch * (2 * i + 1))\n",
    "    i+=1\n",
    "\n",
    "    "
   ]
  },
  {
   "cell_type": "code",
   "execution_count": 25,
   "id": "46e3bb37-0ef2-46b5-9957-0db190aec35e",
   "metadata": {},
   "outputs": [
    {
     "name": "stdout",
     "output_type": "stream",
     "text": [
      "      a \n",
      "    b b b \n",
      "  c c c c c \n",
      "d d d d d d d \n"
     ]
    }
   ],
   "source": [
    "row=1\n",
    "while row<=4:\n",
    "    cols=1\n",
    "    while cols<=4-row:\n",
    "        print(\" \",end=\" \")\n",
    "        cols+=1\n",
    "    col=1\n",
    "    while col<(2*row):\n",
    "        print(chr(96+row),end=\" \")\n",
    "        col+=1\n",
    "    row+=1\n",
    "    print()\n",
    "    "
   ]
  },
  {
   "cell_type": "code",
   "execution_count": 1,
   "id": "7923773f-3b57-463b-a690-a8871d030af8",
   "metadata": {},
   "outputs": [
    {
     "name": "stdout",
     "output_type": "stream",
     "text": [
      "      a \n",
      "    a b c \n",
      "  a b c d e \n",
      "a b c d e f g \n"
     ]
    }
   ],
   "source": [
    "row=1\n",
    "while row<=4:\n",
    "    cols=1\n",
    "    while cols<=4-row:\n",
    "        print(\" \",end=\" \")\n",
    "        cols+=1\n",
    "    col=1\n",
    "    while col<(2*row):\n",
    "        print(chr(96+col),end=\" \")\n",
    "        col+=1\n",
    "    row+=1\n",
    "    print()"
   ]
  },
  {
   "cell_type": "code",
   "execution_count": null,
   "id": "2386a269-0876-484e-9208-607d8dc7abed",
   "metadata": {},
   "outputs": [],
   "source": []
  }
 ],
 "metadata": {
  "kernelspec": {
   "display_name": "Python 3 (ipykernel)",
   "language": "python",
   "name": "python3"
  },
  "language_info": {
   "codemirror_mode": {
    "name": "ipython",
    "version": 3
   },
   "file_extension": ".py",
   "mimetype": "text/x-python",
   "name": "python",
   "nbconvert_exporter": "python",
   "pygments_lexer": "ipython3",
   "version": "3.12.0"
  }
 },
 "nbformat": 4,
 "nbformat_minor": 5
}
