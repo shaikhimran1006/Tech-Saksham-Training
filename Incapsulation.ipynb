{
 "cells": [
  {
   "cell_type": "code",
   "execution_count": 1,
   "id": "4d59d117-c7a9-4a05-9fc0-c797a27297f3",
   "metadata": {},
   "outputs": [
    {
     "name": "stdout",
     "output_type": "stream",
     "text": [
      "12\n",
      "ABC\n",
      "ABC\n",
      "XYZ\n",
      "pqr\n",
      "outside of this class pqr\n"
     ]
    }
   ],
   "source": [
    "#incapsulation\n",
    "#private __\n",
    "#protected _\n",
    "\n",
    "#private variables\n",
    "class Data:\n",
    "    def __init__(self,__amt):\n",
    "        self.__amt=__amt\n",
    "        print(self.__amt)\n",
    "\n",
    "obj = Data(12)\n",
    "\n",
    "#public variable\n",
    "class Data1:\n",
    "    def __init__(self,name):\n",
    "        self.name=name\n",
    "        print(self.name)\n",
    "\n",
    "obj=Data1(\"ABC\")\n",
    "print(obj.name)\n",
    "obj.name=\"XYZ\"\n",
    "print(obj.name)\n",
    "\n",
    "#Protected\n",
    "class Data2:\n",
    "    def __init__(self,_name):\n",
    "        self._name=_name\n",
    "        print(self._name)\n",
    "\n",
    "obj=Data2(\"pqr\")\n",
    "print(\"outside of this class\", obj._name)\n"
   ]
  },
  {
   "cell_type": "code",
   "execution_count": 2,
   "id": "884972a3-4acf-4bf6-a601-fb1838aef58d",
   "metadata": {},
   "outputs": [
    {
     "name": "stdout",
     "output_type": "stream",
     "text": [
      "30\n"
     ]
    }
   ],
   "source": [
    "#private with inheritance\n",
    "class A:\n",
    "    def __init__(self,__amt):\n",
    "        self.__amt=__amt\n",
    "    def show1(self):\n",
    "        print(self.__amt)\n",
    "\n",
    "class B(A):\n",
    "    def show(self):\n",
    "        print(self.__amt)\n",
    "\n",
    "obj = B(30)\n",
    "obj.show1()"
   ]
  },
  {
   "cell_type": "code",
   "execution_count": 3,
   "id": "f1c29553-4674-4d40-9ad7-d337f98e7cc7",
   "metadata": {},
   "outputs": [
    {
     "name": "stdout",
     "output_type": "stream",
     "text": [
      "20\n"
     ]
    }
   ],
   "source": [
    "# accessing  private variable outside the class\n",
    "class A:\n",
    "    def __init__(self,__amt):\n",
    "        self.__amt=__amt\n",
    "\n",
    "obj=A(20)\n",
    "print(obj._A__amt)"
   ]
  },
  {
   "cell_type": "code",
   "execution_count": 4,
   "id": "d103c3d1-612c-4197-b1dd-c704909e9d32",
   "metadata": {},
   "outputs": [
    {
     "name": "stdout",
     "output_type": "stream",
     "text": [
      "this is is private method\n",
      "private\n"
     ]
    }
   ],
   "source": [
    "#private method\n",
    "\n",
    "class A:\n",
    "    def __init__(self,name):\n",
    "        self.name=name\n",
    "        print(self.name)\n",
    "    def __show():\n",
    "        print(\"this is is private method\")\n",
    "    __show()\n",
    "obj =A(\"private\")"
   ]
  },
  {
   "cell_type": "code",
   "execution_count": 5,
   "id": "6d9757dd-45f6-4674-a1c4-f841b03083db",
   "metadata": {},
   "outputs": [
    {
     "name": "stdout",
     "output_type": "stream",
     "text": [
      "working\n",
      "this is private method\n"
     ]
    }
   ],
   "source": [
    "#calling private method in another method within the class \n",
    "class A:\n",
    "    def __show(self):\n",
    "        print(\"this is private method\")\n",
    "\n",
    "    def call(self):\n",
    "        print(\"working\") \n",
    "        self.__show()\n",
    "obj=A()\n",
    "obj.call()"
   ]
  },
  {
   "cell_type": "code",
   "execution_count": 6,
   "id": "cdb18ca8-5c36-4793-8c5e-50efdb3083da",
   "metadata": {},
   "outputs": [
    {
     "name": "stdout",
     "output_type": "stream",
     "text": [
      "private method calling to the outside\n"
     ]
    }
   ],
   "source": [
    "class A:\n",
    "    def __show(self):\n",
    "        print(\"private method calling to the outside\")\n",
    "\n",
    "obj =A()\n",
    "obj._A__show()"
   ]
  },
  {
   "cell_type": "code",
   "execution_count": null,
   "id": "d416ba59-baf4-4eba-acc0-ac9c2fe8c281",
   "metadata": {},
   "outputs": [],
   "source": []
  }
 ],
 "metadata": {
  "kernelspec": {
   "display_name": "Python 3 (ipykernel)",
   "language": "python",
   "name": "python3"
  },
  "language_info": {
   "codemirror_mode": {
    "name": "ipython",
    "version": 3
   },
   "file_extension": ".py",
   "mimetype": "text/x-python",
   "name": "python",
   "nbconvert_exporter": "python",
   "pygments_lexer": "ipython3",
   "version": "3.12.0"
  }
 },
 "nbformat": 4,
 "nbformat_minor": 5
}
