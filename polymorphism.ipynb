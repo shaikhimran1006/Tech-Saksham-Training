{
 "cells": [
  {
   "cell_type": "code",
   "execution_count": 4,
   "id": "a92e99a6-725c-43be-bdc1-7b35824b45a5",
   "metadata": {},
   "outputs": [
    {
     "name": "stdout",
     "output_type": "stream",
     "text": [
      "First class\n"
     ]
    }
   ],
   "source": [
    "#polymorphism\n",
    "\n",
    "class A(B):\n",
    "    def show(self):\n",
    "        print(\"First class\")\n",
    "\n",
    "class B:\n",
    "    def show(self):\n",
    "        print(\"second Mathed\")\n",
    "\n",
    "obj=A()\n",
    "obj.show()"
   ]
  },
  {
   "cell_type": "code",
   "execution_count": 2,
   "id": "587e3bb8-65e3-46be-8425-6a34cb04055d",
   "metadata": {},
   "outputs": [
    {
     "name": "stdout",
     "output_type": "stream",
     "text": [
      "15 2\n",
      "10 2\n",
      "\n",
      "25 4  Addition\n",
      "150 4  Multiplication\n",
      "5 0  Substraction\n",
      "1.5 1.0  Division\n",
      "True False  greater\n"
     ]
    }
   ],
   "source": [
    "#oprator overlaoding using magic methods\n",
    "\n",
    "class A:\n",
    "    def __init__(self,a,b):\n",
    "        self.a=a\n",
    "        self.b=b\n",
    "        print(self.a,self.b)\n",
    "\n",
    "    def __add__(left,right):\n",
    "        return (f\"{left.a+right.a} {left.b+right.b}\")\n",
    "\n",
    "    def __mul__(left,right):\n",
    "        return (f\"{left.a*right.a} {left.b*right.b}\")\n",
    "        \n",
    "    def __truediv__(left,right):\n",
    "        return (f\"{left.a/right.a} {left.b/right.b}\")\n",
    "        \n",
    "    def __sub__(left,right):\n",
    "        return (f\"{left.a-right.a} {left.b-right.b}\")\n",
    "\n",
    "    def __gt__(left,right):\n",
    "        return (f\"{left.a>right.a} {left.b>right.b}\")\n",
    "\n",
    "    def __lt__(left,right):\n",
    "        return (f\"{left.a<right.a} {left.b<right.b}\")\n",
    "\n",
    "    def __eq__(left,right):\n",
    "        return (f\"{left.a==right.a} {left.b==right.b}\")\n",
    "        \n",
    "\n",
    "obj=A(15,2)\n",
    "obj1=A(10,2)\n",
    "print()\n",
    "print(obj+obj1,\" Addition\")\n",
    "print(obj*obj1,\" Multiplication\")\n",
    "print(obj-obj1,\" Substraction\")\n",
    "print(obj/obj1,\" Division\")\n",
    "print(obj>obj1,\" greater\")\n",
    "#print(obj.a+obj1.a,end=\" \")\n",
    "#print(obj.b+obj1.b,end=\"\")"
   ]
  },
  {
   "cell_type": "code",
   "execution_count": null,
   "id": "201b1932-69b2-4b41-b216-7fc9a3f72a40",
   "metadata": {},
   "outputs": [],
   "source": []
  }
 ],
 "metadata": {
  "kernelspec": {
   "display_name": "Python 3 (ipykernel)",
   "language": "python",
   "name": "python3"
  },
  "language_info": {
   "codemirror_mode": {
    "name": "ipython",
    "version": 3
   },
   "file_extension": ".py",
   "mimetype": "text/x-python",
   "name": "python",
   "nbconvert_exporter": "python",
   "pygments_lexer": "ipython3",
   "version": "3.12.0"
  }
 },
 "nbformat": 4,
 "nbformat_minor": 5
}
