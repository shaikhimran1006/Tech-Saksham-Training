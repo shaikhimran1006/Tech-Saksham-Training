{
 "cells": [
  {
   "cell_type": "code",
   "execution_count": 1,
   "id": "404d1757-6813-4917-b761-55d612e2df03",
   "metadata": {},
   "outputs": [],
   "source": [
    "#import datetime"
   ]
  },
  {
   "cell_type": "code",
   "execution_count": 15,
   "id": "4c3bf318-1da8-4ebc-977e-d67ee8de9bf9",
   "metadata": {},
   "outputs": [
    {
     "name": "stdout",
     "output_type": "stream",
     "text": [
      "2025-02-18 10:27:01.271137\n",
      "2025\n",
      "2\n",
      "18\n",
      "Feb/2025/18\n",
      "February/2025/18\n",
      "February/2025/18, 10:27:01\n",
      "February/2025/18, 10:27:01\n",
      "10 days, 0:00:00\n"
     ]
    }
   ],
   "source": [
    "from datetime import datetime,date,time,timedelta\n",
    "now=datetime.now()\n",
    "print(now)\n",
    "print(now.year)\n",
    "print(now.month)\n",
    "print(now.day)\n",
    "\n",
    "d=date.today()\n",
    "print(d.strftime('%b/%Y/%d'))\n",
    "print(d.strftime('%B/%Y/%d'))\n",
    "\n",
    "now=datetime.now()\n",
    "print(now.strftime('%B/%Y/%d, %H:%M:%S'))#24 hrs\n",
    "print(now.strftime('%B/%Y/%d, %I:%M:%S'))#12 hrs\n",
    "\n",
    "a=timedelta(10)\n",
    "print(a)"
   ]
  },
  {
   "cell_type": "code",
   "execution_count": null,
   "id": "bc89502f-a992-40b8-a902-e67c6536c34b",
   "metadata": {},
   "outputs": [],
   "source": []
  }
 ],
 "metadata": {
  "kernelspec": {
   "display_name": "Python 3 (ipykernel)",
   "language": "python",
   "name": "python3"
  },
  "language_info": {
   "codemirror_mode": {
    "name": "ipython",
    "version": 3
   },
   "file_extension": ".py",
   "mimetype": "text/x-python",
   "name": "python",
   "nbconvert_exporter": "python",
   "pygments_lexer": "ipython3",
   "version": "3.12.0"
  }
 },
 "nbformat": 4,
 "nbformat_minor": 5
}
