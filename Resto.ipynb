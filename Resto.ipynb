{
 "cells": [
  {
   "cell_type": "code",
   "execution_count": 3,
   "id": "8410b82a-9868-4263-ae14-8588c7880cd0",
   "metadata": {},
   "outputs": [
    {
     "name": "stdin",
     "output_type": "stream",
     "text": [
      "Enter your name imran\n"
     ]
    },
    {
     "name": "stdout",
     "output_type": "stream",
     "text": [
      "Welcome imran nice to see you....\n"
     ]
    },
    {
     "name": "stdin",
     "output_type": "stream",
     "text": [
      "which food you like to eat Veg or Non-Veg veg\n"
     ]
    },
    {
     "name": "stdout",
     "output_type": "stream",
     "text": [
      "pav Bhaji   100\n",
      "Dosa   50\n",
      "Uthappa   40\n",
      "veg Curry   150\n"
     ]
    }
   ],
   "source": [
    "name=input(\"Enter your name\")\n",
    "print(f\"Welcome {name} nice to see you....\")\n",
    "veg={\"pav Bhaji\":100,\"Dosa\":50,\"Uthappa\":40,\"veg Curry\":150}\n",
    "nonVeg={\"chicken\":500,\"Mutton\":700,\"sukka\":1000}\n",
    "choice=input(\"which food you like to eat Veg or Non-Veg\")\n",
    "if choice==\"veg\":\n",
    "    for i in veg:\n",
    "        print(i ,\" \",veg[i])"
   ]
  },
  {
   "cell_type": "code",
   "execution_count": 7,
   "id": "0bc505e6-02ef-466a-b36c-71ce5836a946",
   "metadata": {},
   "outputs": [
    {
     "name": "stdin",
     "output_type": "stream",
     "text": [
      "Enter your name imran\n"
     ]
    },
    {
     "name": "stdout",
     "output_type": "stream",
     "text": [
      "Welcome imran nice to see you....\n"
     ]
    },
    {
     "name": "stdin",
     "output_type": "stream",
     "text": [
      "what would you like to eat veg or nonveg nonveg\n"
     ]
    },
    {
     "name": "stdout",
     "output_type": "stream",
     "text": [
      "chekentikka=300 to order press 0\n",
      "mutton=400 to order press 1\n"
     ]
    },
    {
     "name": "stdin",
     "output_type": "stream",
     "text": [
      "enter the value to orde food: 0\n"
     ]
    },
    {
     "name": "stdout",
     "output_type": "stream",
     "text": [
      "you order has been ordered\n",
      "chekentikka=300\n"
     ]
    }
   ],
   "source": [
    "name=input(\"Enter your name\")\n",
    "print(f\"Welcome {name} nice to see you....\")\n",
    "food={'veg':[\"panner masala =240\",\"paneer tikka=260\"],\"nonveg\":[\"chekentikka=300\",\"mutton=400\"]}\n",
    "sfood=input(\"what would you like to eat veg or nonveg\")\n",
    "c=0\n",
    "for i in food[sfood]:\n",
    "    print(f\"{i} to order press {c}\")\n",
    "    c+=1\n",
    "order=int(input(\"enter the value to orde food:\"))\n",
    "print(\"you order has been ordered\")\n",
    "print(food[sfood][order])\n"
   ]
  },
  {
   "cell_type": "code",
   "execution_count": null,
   "id": "9de36c57-7064-4e4e-ae2a-292d35e1abf3",
   "metadata": {},
   "outputs": [],
   "source": []
  }
 ],
 "metadata": {
  "kernelspec": {
   "display_name": "Python 3 (ipykernel)",
   "language": "python",
   "name": "python3"
  },
  "language_info": {
   "codemirror_mode": {
    "name": "ipython",
    "version": 3
   },
   "file_extension": ".py",
   "mimetype": "text/x-python",
   "name": "python",
   "nbconvert_exporter": "python",
   "pygments_lexer": "ipython3",
   "version": "3.12.0"
  }
 },
 "nbformat": 4,
 "nbformat_minor": 5
}
