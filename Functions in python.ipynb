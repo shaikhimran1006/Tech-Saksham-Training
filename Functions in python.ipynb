{
 "cells": [
  {
   "cell_type": "code",
   "execution_count": 3,
   "id": "96caa8e8-6f2d-445e-a4b8-7a906f4ddb93",
   "metadata": {},
   "outputs": [
    {
     "data": {
      "text/plain": [
       "'\\nfunction is block of code write once use it multiple times is an block of code to define the function in python!\\n\\nsyntax\\n\\ndef Name():\\n    expressions\\n\\n\\ntypes of userdifine function \\nsimple function\\nfunction with parameter \\nfunction with positional argument\\nfunctional with keywrd argument\\narbitratory function\\n'"
      ]
     },
     "execution_count": 3,
     "metadata": {},
     "output_type": "execute_result"
    }
   ],
   "source": [
    "\"\"\"\n",
    "function is block of code write once use it multiple times is an block of code to define the function in python!\n",
    "\n",
    "syntax\n",
    "\n",
    "def Name():\n",
    "    expressions\n",
    "\n",
    "\n",
    "types of userdifine function \n",
    "simple function\n",
    "function with parameter \n",
    "function with positional argument\n",
    "functional with keywrd argument\n",
    "defoult paramiter function\n",
    "arbitratory function\n",
    "\"\"\""
   ]
  },
  {
   "cell_type": "code",
   "execution_count": 16,
   "id": "74387b09-e690-4fcd-b47c-92702da1dd61",
   "metadata": {},
   "outputs": [
    {
     "name": "stdout",
     "output_type": "stream",
     "text": [
      "simple function\n",
      "my name is imran my age is 25 live in Solapur\n",
      "my name is imran my age is 25 live in Solapur\n",
      "my name is imran my age is 25 live in Solapur\n",
      "(1, 2, 3, 4, 5, 6)\n",
      "{'a': 1, 'b': 2, 'c': 3}\n"
     ]
    }
   ],
   "source": [
    "#simple function\n",
    "def Data():\n",
    "    print(\"simple function\")\n",
    "Data()\n",
    "\n",
    "#function with positional argument\n",
    "def Data(name,age,city):\n",
    "    print(f\"my name is {name} my age is {age} live in {city}\")\n",
    "Data(\"imran\",25,\"Solapur\")\n",
    "\n",
    "#function with key-word argument\n",
    "def Data(name,age,city):\n",
    "    print(f\"my name is {name} my age is {age} live in {city}\")\n",
    "Data(age=25,name=\"imran\",city=\"Solapur\")\n",
    "\n",
    "#defult parameter function\n",
    "def Data(name,age,city=\"Solapur\"):\n",
    "    print(f\"my name is {name} my age is {age} live in {city}\")\n",
    "Data(\"imran\",25)\n",
    "\n",
    "#arbitry functio:\n",
    "    #variable length function retun Touple\n",
    "def Add(*a):\n",
    "    print(a)\n",
    "Add(1,2,3,4,5,6)\n",
    "\n",
    "#key-word argument variable length function return Dictnary\n",
    "def Add(**a):\n",
    "    print(a)\n",
    "Add(a=1,b=2,c=3)"
   ]
  },
  {
   "cell_type": "code",
   "execution_count": 21,
   "id": "5140f49c-2bf7-4ccc-a23e-4e7adc358e2c",
   "metadata": {},
   "outputs": [
    {
     "data": {
      "text/plain": [
       "4"
      ]
     },
     "execution_count": 21,
     "metadata": {},
     "output_type": "execute_result"
    }
   ],
   "source": [
    "#  create own length function\n",
    "\n",
    "def len(x):\n",
    "    c=0\n",
    "    for i in x:\n",
    "        c=c+1\n",
    "    return c\n",
    "\n",
    "len([1,2,3,4])\n",
    "        "
   ]
  },
  {
   "cell_type": "code",
   "execution_count": 31,
   "id": "2a2ca544-2dc5-478a-ad3b-d99052a7c249",
   "metadata": {},
   "outputs": [
    {
     "name": "stdout",
     "output_type": "stream",
     "text": [
      "SHAIKH\n",
      "imran"
     ]
    }
   ],
   "source": [
    "#upper and lower\n",
    "def upper(x):\n",
    "    for i in x:\n",
    "        i=ord(i)\n",
    "        print(chr(i-32),end=\"\")\n",
    "def lower(x):\n",
    "    for i in x:\n",
    "        i=ord(i)\n",
    "        print(chr(i+32),end=\"\")\n",
    "        \n",
    "upper(\"shaikh\")\n",
    "print()\n",
    "lower(\"IMRAN\")"
   ]
  },
  {
   "cell_type": "code",
   "execution_count": null,
   "id": "9f277532-f72a-4e33-a443-7af40a3ebbf3",
   "metadata": {},
   "outputs": [],
   "source": []
  },
  {
   "cell_type": "code",
   "execution_count": null,
   "id": "fe474674-b4df-4f77-8ff1-4ae169796187",
   "metadata": {},
   "outputs": [],
   "source": []
  }
 ],
 "metadata": {
  "kernelspec": {
   "display_name": "Python 3 (ipykernel)",
   "language": "python",
   "name": "python3"
  },
  "language_info": {
   "codemirror_mode": {
    "name": "ipython",
    "version": 3
   },
   "file_extension": ".py",
   "mimetype": "text/x-python",
   "name": "python",
   "nbconvert_exporter": "python",
   "pygments_lexer": "ipython3",
   "version": "3.12.0"
  }
 },
 "nbformat": 4,
 "nbformat_minor": 5
}
