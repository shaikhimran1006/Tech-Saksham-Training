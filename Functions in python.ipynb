{
 "cells": [
  {
   "cell_type": "code",
   "execution_count": 14,
   "id": "96caa8e8-6f2d-445e-a4b8-7a906f4ddb93",
   "metadata": {},
   "outputs": [
    {
     "data": {
      "text/plain": [
       "'\\nfunction is block of code write once use it multiple times is an block of code to define the function in python!\\n\\nsyntax\\n\\ndef Name():\\n    expressions\\n\\n\\ntypes of userdifine function \\nsimple function\\nfunction with parameter \\nfunction with positional argument\\nfunctional with keywrd argument\\ndefoult paramiter function\\narbitratory function\\nlamda functions\\nrecursive function\\n'"
      ]
     },
     "execution_count": 14,
     "metadata": {},
     "output_type": "execute_result"
    }
   ],
   "source": [
    "\"\"\"\n",
    "function is block of code write once use it multiple times is an block of code to define the function in python!\n",
    "\n",
    "syntax\n",
    "\n",
    "def Name():\n",
    "    expressions\n",
    "\n",
    "\n",
    "types of userdifine function \n",
    "simple function\n",
    "function with parameter \n",
    "function with positional argument\n",
    "functional with keywrd argument\n",
    "defoult paramiter function\n",
    "arbitratory function\n",
    "lamda functions\n",
    "recursive function\n",
    "\"\"\""
   ]
  },
  {
   "cell_type": "code",
   "execution_count": 33,
   "id": "74387b09-e690-4fcd-b47c-92702da1dd61",
   "metadata": {},
   "outputs": [
    {
     "name": "stdout",
     "output_type": "stream",
     "text": [
      "simple function\n",
      "my name is imran my age is 25 live in Solapur\n",
      "my name is imran my age is 25 live in Solapur\n",
      "my name is imran my age is 25 live in Solapur\n",
      "(1, 2, 3, 4, 5, 6)\n",
      "{'a': 1, 'b': 2, 'c': 3}\n",
      "15\n"
     ]
    }
   ],
   "source": [
    "#simple function\n",
    "def Data():\n",
    "    print(\"simple function\")\n",
    "Data()\n",
    "\n",
    "#function with positional argument\n",
    "def Data(name,age,city):\n",
    "    print(f\"my name is {name} my age is {age} live in {city}\")\n",
    "Data(\"imran\",25,\"Solapur\")\n",
    "\n",
    "#function with key-word argument\n",
    "def Data(name,age,city):\n",
    "    print(f\"my name is {name} my age is {age} live in {city}\")\n",
    "Data(age=25,name=\"imran\",city=\"Solapur\")\n",
    "\n",
    "#defult parameter function\n",
    "def Data(name,age,city=\"Solapur\"):\n",
    "    print(f\"my name is {name} my age is {age} live in {city}\")\n",
    "Data(\"imran\",25)\n",
    "\n",
    "#arbitry functio:\n",
    "    #variable length function retun Touple\n",
    "def Add(*a):\n",
    "    print(a)\n",
    "Add(1,2,3,4,5,6)\n",
    "\n",
    "#key-word argument variable length function return Dictnary\n",
    "def Add(**a):\n",
    "    print(a)\n",
    "Add(a=1,b=2,c=3)\n",
    "\n",
    "#lambda functions/Ananomouse function\n",
    "    #a=lambda parameters:expressions\n",
    "a= lambda a,b:a+b\n",
    "print(a(10,5))\n"
   ]
  },
  {
   "cell_type": "code",
   "execution_count": 34,
   "id": "b53bafa6-89c3-41b7-87fb-597ee65355d8",
   "metadata": {},
   "outputs": [
    {
     "name": "stdout",
     "output_type": "stream",
     "text": [
      "13\n"
     ]
    }
   ],
   "source": [
    "#generator function \n",
    "def Abc():\n",
    "    yield 'abc'\n",
    "    yield 13\n",
    "    yield 33\n",
    "a=Abc()\n",
    "print(next(Abc(a)))\n",
    "print(next(Abc(a)))\n",
    "print(next(Abc(a)))"
   ]
  },
  {
   "cell_type": "code",
   "execution_count": 16,
   "id": "5140f49c-2bf7-4ccc-a23e-4e7adc358e2c",
   "metadata": {},
   "outputs": [
    {
     "data": {
      "text/plain": [
       "4"
      ]
     },
     "execution_count": 16,
     "metadata": {},
     "output_type": "execute_result"
    }
   ],
   "source": [
    "#  create own length function\n",
    "\n",
    "def len(x):\n",
    "    c=0\n",
    "    for i in x:\n",
    "        c=c+1\n",
    "    return c\n",
    "\n",
    "len([1,2,3,4])\n",
    "        "
   ]
  },
  {
   "cell_type": "code",
   "execution_count": 17,
   "id": "2a2ca544-2dc5-478a-ad3b-d99052a7c249",
   "metadata": {},
   "outputs": [
    {
     "name": "stdout",
     "output_type": "stream",
     "text": [
      "SHAIKH\n",
      "imran"
     ]
    }
   ],
   "source": [
    "#upper and lower\n",
    "def upper(x):\n",
    "    for i in x:\n",
    "        i=ord(i)\n",
    "        print(chr(i-32),end=\"\")\n",
    "def lower(x):\n",
    "    for i in x:\n",
    "        i=ord(i)\n",
    "        print(chr(i+32),end=\"\")\n",
    "        \n",
    "upper(\"shaikh\")\n",
    "print()\n",
    "lower(\"IMRAN\")"
   ]
  },
  {
   "cell_type": "code",
   "execution_count": 18,
   "id": "9f277532-f72a-4e33-a443-7af40a3ebbf3",
   "metadata": {},
   "outputs": [
    {
     "data": {
      "text/plain": [
       "'MY NAME IS KHAN'"
      ]
     },
     "execution_count": 18,
     "metadata": {},
     "output_type": "execute_result"
    }
   ],
   "source": [
    "def upper(a):\n",
    "    s=\"\"\n",
    "    for i in a:\n",
    "        if i!=\" \":\n",
    "            d=(ord(i)-32)\n",
    "            s=s+(chr(d))\n",
    "        else:\n",
    "            s=s+\" \"\n",
    "    return s\n",
    "a=\"my name is khan\"\n",
    "upper(a)"
   ]
  },
  {
   "cell_type": "code",
   "execution_count": 19,
   "id": "fe474674-b4df-4f77-8ff1-4ae169796187",
   "metadata": {},
   "outputs": [
    {
     "data": {
      "text/plain": [
       "range(1, 10)"
      ]
     },
     "execution_count": 19,
     "metadata": {},
     "output_type": "execute_result"
    }
   ],
   "source": [
    "range(1,10)"
   ]
  },
  {
   "cell_type": "code",
   "execution_count": 23,
   "id": "b95e3169-ae0d-4198-9a44-966303649a94",
   "metadata": {},
   "outputs": [
    {
     "name": "stdout",
     "output_type": "stream",
     "text": [
      "1 2 3 4 5 6 7 8 9 10 "
     ]
    }
   ],
   "source": [
    "def print_numbers(n=1):\n",
    "    if n<=10:\n",
    "        print(n,end=\" \")\n",
    "        print_numbers(n + 1)\n",
    "\n",
    "print_numbers()\n"
   ]
  },
  {
   "cell_type": "code",
   "execution_count": 25,
   "id": "579b0b91-bbe6-47f3-98c8-68ef992c6397",
   "metadata": {},
   "outputs": [
    {
     "name": "stdout",
     "output_type": "stream",
     "text": [
      "1 2 3 4 5 6 7 8 9 10 "
     ]
    }
   ],
   "source": [
    "def number(n):\n",
    "    print(n,end=\" \")\n",
    "    n+=1\n",
    "    if n<=10:\n",
    "        return number(n)\n",
    "\n",
    "number(1)"
   ]
  },
  {
   "cell_type": "code",
   "execution_count": 30,
   "id": "73fa75ed-423a-4564-b305-d403022b0b6e",
   "metadata": {
    "scrolled": true
   },
   "outputs": [
    {
     "name": "stdout",
     "output_type": "stream",
     "text": [
      "1   2   3   4   5   6   7   8   9   10   \n",
      "2   4   6   8   10   12   14   16   18   20   \n",
      "3   6   9   12   15   18   21   24   27   30   \n",
      "4   8   12   16   20   24   28   32   36   40   \n",
      "5   10   15   20   25   30   35   40   45   50   \n",
      "6   12   18   24   30   36   42   48   54   60   \n",
      "7   14   21   28   35   42   49   56   63   70   \n",
      "8   16   24   32   40   48   56   64   72   80   \n",
      "9   18   27   36   45   54   63   72   81   90   \n",
      "10   20   30   40   50   60   70   80   90   100   \n"
     ]
    }
   ],
   "source": [
    "def outer(n):\n",
    "    def inner(n1):\n",
    "        print(n*n1,end=\"   \")\n",
    "        n1+=1\n",
    "        if n1<=10:\n",
    "            return inner(n1)\n",
    "    inner(1)\n",
    "    print()\n",
    "    n+=1\n",
    "    if n<=10:\n",
    "        return outer(n)\n",
    "outer(1)"
   ]
  },
  {
   "cell_type": "code",
   "execution_count": 32,
   "id": "2088bb89-bcbd-4707-abcb-8584958e7817",
   "metadata": {},
   "outputs": [
    {
     "data": {
      "text/plain": [
       "[121, 441, 1681, 2601]"
      ]
     },
     "execution_count": 32,
     "metadata": {},
     "output_type": "execute_result"
    }
   ],
   "source": [
    "def squre(x):\n",
    "    a=[]\n",
    "    for i in x:\n",
    "        a.append(i**2)\n",
    "    return a\n",
    "\n",
    "squre([11,21,41,51])"
   ]
  },
  {
   "cell_type": "code",
   "execution_count": null,
   "id": "96eee531-ffe6-4b19-853b-ee8252b3a51f",
   "metadata": {},
   "outputs": [],
   "source": []
  }
 ],
 "metadata": {
  "kernelspec": {
   "display_name": "Python 3 (ipykernel)",
   "language": "python",
   "name": "python3"
  },
  "language_info": {
   "codemirror_mode": {
    "name": "ipython",
    "version": 3
   },
   "file_extension": ".py",
   "mimetype": "text/x-python",
   "name": "python",
   "nbconvert_exporter": "python",
   "pygments_lexer": "ipython3",
   "version": "3.12.0"
  }
 },
 "nbformat": 4,
 "nbformat_minor": 5
}
