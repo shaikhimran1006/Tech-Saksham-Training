{
 "cells": [
  {
   "cell_type": "code",
   "execution_count": 1,
   "id": "ce29d99d-ac3a-48cb-853a-370856e3d18a",
   "metadata": {},
   "outputs": [
    {
     "data": {
      "text/plain": [
       "'\\nr-is use to read the file\\nx-is use to create file\\nw-is use to write a file data\\na-is use to append data into the file and its also create a file\\nopen - is use to open the file for operation\\nclose - is use to clode the file\\nread - use to read the file\\nreadline - use to read line\\nreadlines - use to read lines\\n'"
      ]
     },
     "execution_count": 1,
     "metadata": {},
     "output_type": "execute_result"
    }
   ],
   "source": [
    "'''\n",
    "r-is use to read the file\n",
    "x-is use to create file\n",
    "w-is use to write a file data\n",
    "a-is use to append data into the file and its also create a file\n",
    "open - is use to open the file for operation\n",
    "close - is use to clode the file\n",
    "read - use to read the file\n",
    "readline - use to read line\n",
    "readlines - use to read lines\n",
    "\n",
    "syntax\n",
    "\n",
    "variable= open (file path,mode) \n",
    "'''"
   ]
  },
  {
   "cell_type": "code",
   "execution_count": 8,
   "id": "c9f56bbe-e127-4f77-97c0-0ddc597f7bb3",
   "metadata": {},
   "outputs": [
    {
     "data": {
      "text/plain": [
       "21"
      ]
     },
     "execution_count": 8,
     "metadata": {},
     "output_type": "execute_result"
    }
   ],
   "source": [
    "f=open(\"File Handling/first.txt\",\"w\")\n",
    "f.write(\"This is my first file\")"
   ]
  },
  {
   "cell_type": "code",
   "execution_count": 15,
   "id": "416327bb-9144-4946-a1a2-ad46e317af09",
   "metadata": {},
   "outputs": [
    {
     "data": {
      "text/plain": [
       "'this is my second linesecondd line\\n thirdd line'"
      ]
     },
     "execution_count": 15,
     "metadata": {},
     "output_type": "execute_result"
    }
   ],
   "source": [
    "f=open(\"File Handling/first.txt\",\"r\")\n",
    "f.read()"
   ]
  },
  {
   "cell_type": "code",
   "execution_count": 10,
   "id": "e1785fdd-6616-4949-9b06-e22c32893a10",
   "metadata": {},
   "outputs": [
    {
     "data": {
      "text/plain": [
       "22"
      ]
     },
     "execution_count": 10,
     "metadata": {},
     "output_type": "execute_result"
    }
   ],
   "source": [
    "f=open(\"File Handling/first.txt\",\"w\")\n",
    "f.write(\"this is my second line\")"
   ]
  },
  {
   "cell_type": "code",
   "execution_count": 14,
   "id": "8e07adde-e8ac-4fd5-b359-0d395730b0a9",
   "metadata": {},
   "outputs": [
    {
     "data": {
      "text/plain": [
       "13"
      ]
     },
     "execution_count": 14,
     "metadata": {},
     "output_type": "execute_result"
    }
   ],
   "source": [
    "f=open(\"File Handling/first.txt\",\"a\")\n",
    "f.write(\"\\n thirdd line\")"
   ]
  },
  {
   "cell_type": "code",
   "execution_count": 17,
   "id": "c86b57f8-25b3-4bd4-8ecc-32b68bb6ea80",
   "metadata": {},
   "outputs": [],
   "source": [
    "f=open(\"File Handling/third.txt\",\"a\")"
   ]
  },
  {
   "cell_type": "code",
   "execution_count": 11,
   "id": "a1868db5-9555-4c9a-8530-7c50ee71bf48",
   "metadata": {},
   "outputs": [
    {
     "name": "stdin",
     "output_type": "stream",
     "text": [
      "enter your full name: imran\n",
      "In which class you are studying sy\n",
      "enter your roll no 51\n",
      "please enter your age 45\n"
     ]
    },
    {
     "data": {
      "text/plain": [
       "63"
      ]
     },
     "execution_count": 11,
     "metadata": {},
     "output_type": "execute_result"
    }
   ],
   "source": [
    "f=open(\"File Handling/student.txt\",\"a\")\n",
    "name=input(\"enter your full name:\")\n",
    "Class=input(\"In which class you are studying\")\n",
    "roll=int(input(\"enter your roll no\"))\n",
    "age=int(input(\"please enter your age\"))\n",
    "\n",
    "f.write(f\"\\nName :{name}\\n Class :{Class}\\n rool_number: {roll}\\n age:{age}\\n ************\\n\")"
   ]
  },
  {
   "cell_type": "code",
   "execution_count": 14,
   "id": "ffc5f7ad-c93b-44f0-9fb3-b328b025d113",
   "metadata": {},
   "outputs": [
    {
     "data": {
      "text/plain": [
       "'\\nName :Shaikh Imran SHaikh Ibrahim\\n Collge :WIT Solapur\\n hobby: Playing\\n'"
      ]
     },
     "execution_count": 14,
     "metadata": {},
     "output_type": "execute_result"
    }
   ],
   "source": [
    "f=open(\"File Handling/imran.txt\",\"r\")\n",
    "f.read()"
   ]
  },
  {
   "cell_type": "code",
   "execution_count": 12,
   "id": "70c986e1-6367-499d-9dc5-bdd408f6f0ba",
   "metadata": {},
   "outputs": [
    {
     "name": "stdin",
     "output_type": "stream",
     "text": [
      "you have to create the file. Enter your first name imran\n",
      "enter the name Shaikh Imran SHaikh Ibrahim\n",
      "enter the clg name WIT Solapur\n",
      "enteryour hobby Playing\n"
     ]
    },
    {
     "data": {
      "text/plain": [
       "72"
      ]
     },
     "execution_count": 12,
     "metadata": {},
     "output_type": "execute_result"
    }
   ],
   "source": [
    "file=input(\"you have to create the file. Enter your first name\")\n",
    "name=input(\"enter the name\")\n",
    "clg=input(\"enter the clg name\")\n",
    "hobby=input(\"enteryour hobby\")\n",
    "f=open(f\"File Handling/{file}.txt\",\"a\")\n",
    "f.write(f\"\\nName :{name}\\n Collge :{clg}\\n hobby: {hobby}\\n\")"
   ]
  },
  {
   "cell_type": "code",
   "execution_count": 17,
   "id": "6515c7d4-ab5b-4a18-9ccd-40135fd4af3d",
   "metadata": {},
   "outputs": [
    {
     "name": "stdout",
     "output_type": "stream",
     "text": [
      "this file contains  4  lines\n"
     ]
    }
   ],
   "source": [
    "f=open(\"File Handling/imran.txt\",\"r\")\n",
    "lines=f.readlines()\n",
    "print(\"this file contains \",len(lines),\" lines\")"
   ]
  },
  {
   "cell_type": "code",
   "execution_count": 21,
   "id": "552f6a88-8ed0-46c2-88f3-7d5b458e296f",
   "metadata": {},
   "outputs": [
    {
     "name": "stdout",
     "output_type": "stream",
     "text": [
      "10\n"
     ]
    }
   ],
   "source": [
    "f=open(\"File Handling/imran.txt\",\"r\")\n",
    "lines=f.readlines()\n",
    "count=0\n",
    "for i in range(len(lines)):\n",
    "    count+=(len(lines[i].split()))\n",
    "\n",
    "print(count)\n",
    "        "
   ]
  },
  {
   "cell_type": "code",
   "execution_count": 20,
   "id": "9faf4437-85ab-4729-9b11-abe2f62cf912",
   "metadata": {},
   "outputs": [
    {
     "name": "stdout",
     "output_type": "stream",
     "text": [
      "72\n"
     ]
    }
   ],
   "source": [
    "f=open(\"File Handling/imran.txt\",\"r\")\n",
    "lines=f.readlines()\n",
    "count=0\n",
    "for i in range(len(lines)):\n",
    "    count+=(len(lines[i]))\n",
    "\n",
    "print(count)\n",
    "        "
   ]
  },
  {
   "cell_type": "code",
   "execution_count": 22,
   "id": "fdae5ac4-ad43-43f5-b550-d10fedb63fb9",
   "metadata": {},
   "outputs": [
    {
     "name": "stdout",
     "output_type": "stream",
     "text": [
      "letter: 63, space:9\n"
     ]
    }
   ],
   "source": [
    "f=open(\"File Handling/imran.txt\",\"r\")\n",
    "lines=f.readlines()\n",
    "ltr=0\n",
    "spc=0\n",
    "for i in range(len(lines)):\n",
    "    for j in range(len(lines[i])):\n",
    "        if lines[i][j]==\" \":\n",
    "            spc+=1\n",
    "        else:\n",
    "            ltr+=1\n",
    "\n",
    "print(f\"letter: {ltr}, space:{spc}\")"
   ]
  },
  {
   "cell_type": "code",
   "execution_count": 24,
   "id": "ff7941d9-3f13-422f-af12-8ab3bda7f352",
   "metadata": {},
   "outputs": [
    {
     "name": "stdout",
     "output_type": "stream",
     "text": [
      "vowels: 17, consonants:55\n"
     ]
    }
   ],
   "source": [
    "f=open(\"File Handling/imran.txt\",\"r\")\n",
    "lines=f.readlines()\n",
    "ltr=0\n",
    "spc=0\n",
    "for i in range(len(lines)):\n",
    "    for j in range(len(lines[i])):\n",
    "        if lines[i][j] in \"aeiou\":\n",
    "            spc+=1\n",
    "        else:\n",
    "            ltr+=1\n",
    "\n",
    "print(f\"vowels: {spc}, consonants:{ltr}\")"
   ]
  },
  {
   "cell_type": "code",
   "execution_count": 34,
   "id": "0215a46a-b954-4c19-b485-79a8579f78de",
   "metadata": {},
   "outputs": [
    {
     "name": "stdin",
     "output_type": "stream",
     "text": [
      "enter file name imran\n",
      "enter word to be search dummy\n"
     ]
    },
    {
     "name": "stdout",
     "output_type": "stream",
     "text": [
      "False\n"
     ]
    }
   ],
   "source": [
    "file=input(\"enter file name\")\n",
    "target=input(\"enter word to be search\")\n",
    "f=open(f\"File Handling/{file}.txt\",\"r\")\n",
    "lines=f.readlines()\n",
    "for i in lines:\n",
    "    for j in i:\n",
    "        if j ==\"target\":\n",
    "            print(\"True\")\n",
    "            break\n",
    "print(\"False\")"
   ]
  },
  {
   "cell_type": "code",
   "execution_count": 33,
   "id": "c15f371d-bb83-43ec-af07-4da49b5dd25e",
   "metadata": {},
   "outputs": [
    {
     "name": "stdin",
     "output_type": "stream",
     "text": [
      "enter the word to be search dummy\n"
     ]
    }
   ],
   "source": [
    "f=open(f\"File Handling/imran.txt\",\"r\")\n",
    "name=input(\"enter the word to be search\")\n",
    "lines=f.readlines()\n",
    "for i in f:\n",
    "    a1=i.split()\n",
    "    for j in a1:\n",
    "        if j.lower()==name.lower():\n",
    "            print(True)\n",
    "            break\n",
    "\n"
   ]
  },
  {
   "cell_type": "code",
   "execution_count": 37,
   "id": "c6734307-9344-4b9f-ba0e-73890c8ecbaa",
   "metadata": {},
   "outputs": [],
   "source": [
    "#removing the files\n",
    "import os\n",
    "os.remove(\"File Handling/third.txt\")"
   ]
  },
  {
   "cell_type": "code",
   "execution_count": null,
   "id": "55807b47-c73c-49a0-9f4f-919d48e9ca68",
   "metadata": {},
   "outputs": [],
   "source": []
  }
 ],
 "metadata": {
  "kernelspec": {
   "display_name": "Python 3 (ipykernel)",
   "language": "python",
   "name": "python3"
  },
  "language_info": {
   "codemirror_mode": {
    "name": "ipython",
    "version": 3
   },
   "file_extension": ".py",
   "mimetype": "text/x-python",
   "name": "python",
   "nbconvert_exporter": "python",
   "pygments_lexer": "ipython3",
   "version": "3.12.0"
  }
 },
 "nbformat": 4,
 "nbformat_minor": 5
}
