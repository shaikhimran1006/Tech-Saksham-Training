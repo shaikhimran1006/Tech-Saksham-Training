{
 "cells": [
  {
   "cell_type": "code",
   "execution_count": 2,
   "id": "e9dab65d-f96b-479d-80e5-43ae111e7578",
   "metadata": {},
   "outputs": [
    {
     "name": "stdout",
     "output_type": "stream",
     "text": [
      "Abstractions....\n"
     ]
    }
   ],
   "source": [
    "#abstarction\n",
    "from abc import ABC,abstractmethod\n",
    "class Data(ABC):\n",
    "    @abstractmethod\n",
    "    def show(self):\n",
    "        pass\n",
    "\n",
    "class Data1(Data):\n",
    "    def show(self):\n",
    "        print(\"Abstractions....\")\n",
    "\n",
    "obj=Data1()\n",
    "obj.show()"
   ]
  },
  {
   "cell_type": "code",
   "execution_count": null,
   "id": "a5d9d925-a945-4b18-8693-f800602aff2b",
   "metadata": {},
   "outputs": [],
   "source": []
  }
 ],
 "metadata": {
  "kernelspec": {
   "display_name": "Python 3 (ipykernel)",
   "language": "python",
   "name": "python3"
  },
  "language_info": {
   "codemirror_mode": {
    "name": "ipython",
    "version": 3
   },
   "file_extension": ".py",
   "mimetype": "text/x-python",
   "name": "python",
   "nbconvert_exporter": "python",
   "pygments_lexer": "ipython3",
   "version": "3.12.0"
  }
 },
 "nbformat": 4,
 "nbformat_minor": 5
}
