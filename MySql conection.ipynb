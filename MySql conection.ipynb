{
 "cells": [
  {
   "cell_type": "code",
   "execution_count": 2,
   "id": "c5667a58-871c-471c-90d6-56cc376bc663",
   "metadata": {},
   "outputs": [
    {
     "name": "stdout",
     "output_type": "stream",
     "text": [
      "Defaulting to user installation because normal site-packages is not writeable\n",
      "Collecting mysql\n",
      "  Downloading mysql-0.0.3-py3-none-any.whl.metadata (746 bytes)\n",
      "Collecting mysqlclient (from mysql)\n",
      "  Downloading mysqlclient-2.2.7-cp312-cp312-win_amd64.whl.metadata (4.8 kB)\n",
      "Downloading mysql-0.0.3-py3-none-any.whl (1.2 kB)\n",
      "Downloading mysqlclient-2.2.7-cp312-cp312-win_amd64.whl (208 kB)\n",
      "Installing collected packages: mysqlclient, mysql\n",
      "Successfully installed mysql-0.0.3 mysqlclient-2.2.7\n",
      "Note: you may need to restart the kernel to use updated packages.\n"
     ]
    },
    {
     "name": "stderr",
     "output_type": "stream",
     "text": [
      "WARNING: Ignoring invalid distribution ~orch (C:\\Users\\imran\\AppData\\Roaming\\Python\\Python312\\site-packages)\n",
      "WARNING: Ignoring invalid distribution ~orch (C:\\Users\\imran\\AppData\\Roaming\\Python\\Python312\\site-packages)\n",
      "WARNING: Ignoring invalid distribution ~orch (C:\\Users\\imran\\AppData\\Roaming\\Python\\Python312\\site-packages)\n",
      "\n",
      "[notice] A new release of pip is available: 24.3.1 -> 25.0.1\n",
      "[notice] To update, run: python.exe -m pip install --upgrade pip\n"
     ]
    }
   ],
   "source": [
    "pip install mysql"
   ]
  },
  {
   "cell_type": "code",
   "execution_count": 3,
   "id": "d9a37ed2-a905-4c12-8637-8d2c69c319e0",
   "metadata": {},
   "outputs": [
    {
     "name": "stdout",
     "output_type": "stream",
     "text": [
      "Defaulting to user installation because normal site-packages is not writeable\n",
      "Collecting mysql-connector\n",
      "  Downloading mysql-connector-2.2.9.tar.gz (11.9 MB)\n",
      "     ---------------------------------------- 0.0/11.9 MB ? eta -:--:--\n",
      "     ---------------------------------------- 0.0/11.9 MB ? eta -:--:--\n",
      "     ---------------------------------------- 0.0/11.9 MB ? eta -:--:--\n",
      "      --------------------------------------- 0.3/11.9 MB ? eta -:--:--\n",
      "     - ------------------------------------- 0.5/11.9 MB 799.2 kB/s eta 0:00:15\n",
      "     - ------------------------------------- 0.5/11.9 MB 799.2 kB/s eta 0:00:15\n",
      "     - ------------------------------------- 0.5/11.9 MB 799.2 kB/s eta 0:00:15\n",
      "     -- ------------------------------------ 0.8/11.9 MB 599.2 kB/s eta 0:00:19\n",
      "     -- ------------------------------------ 0.8/11.9 MB 599.2 kB/s eta 0:00:19\n",
      "     --- ----------------------------------- 1.0/11.9 MB 653.7 kB/s eta 0:00:17\n",
      "     --- ----------------------------------- 1.0/11.9 MB 653.7 kB/s eta 0:00:17\n",
      "     ---- ---------------------------------- 1.3/11.9 MB 639.4 kB/s eta 0:00:17\n",
      "     ---- ---------------------------------- 1.3/11.9 MB 639.4 kB/s eta 0:00:17\n",
      "     ---- ---------------------------------- 1.3/11.9 MB 639.4 kB/s eta 0:00:17\n",
      "     ---- ---------------------------------- 1.3/11.9 MB 639.4 kB/s eta 0:00:17\n",
      "     ----- --------------------------------- 1.6/11.9 MB 508.4 kB/s eta 0:00:21\n",
      "     ----- --------------------------------- 1.6/11.9 MB 508.4 kB/s eta 0:00:21\n",
      "     ----- --------------------------------- 1.6/11.9 MB 508.4 kB/s eta 0:00:21\n",
      "     ------ -------------------------------- 1.8/11.9 MB 500.9 kB/s eta 0:00:20\n",
      "     ------ -------------------------------- 1.8/11.9 MB 500.9 kB/s eta 0:00:20\n",
      "     ------ -------------------------------- 1.8/11.9 MB 500.9 kB/s eta 0:00:20\n",
      "     ------ -------------------------------- 1.8/11.9 MB 500.9 kB/s eta 0:00:20\n",
      "     ------ -------------------------------- 1.8/11.9 MB 500.9 kB/s eta 0:00:20\n",
      "     ------ -------------------------------- 2.1/11.9 MB 427.0 kB/s eta 0:00:23\n",
      "     ------ -------------------------------- 2.1/11.9 MB 427.0 kB/s eta 0:00:23\n",
      "     ------ -------------------------------- 2.1/11.9 MB 427.0 kB/s eta 0:00:23\n",
      "     ------ -------------------------------- 2.1/11.9 MB 427.0 kB/s eta 0:00:23\n",
      "     ------ -------------------------------- 2.1/11.9 MB 427.0 kB/s eta 0:00:23\n",
      "     ------ -------------------------------- 2.1/11.9 MB 427.0 kB/s eta 0:00:23\n",
      "     ------ -------------------------------- 2.1/11.9 MB 427.0 kB/s eta 0:00:23\n",
      "     ------ -------------------------------- 2.1/11.9 MB 427.0 kB/s eta 0:00:23\n",
      "     ------- ------------------------------- 2.4/11.9 MB 358.9 kB/s eta 0:00:27\n",
      "     ------- ------------------------------- 2.4/11.9 MB 358.9 kB/s eta 0:00:27\n",
      "     ------- ------------------------------- 2.4/11.9 MB 358.9 kB/s eta 0:00:27\n",
      "     ------- ------------------------------- 2.4/11.9 MB 358.9 kB/s eta 0:00:27\n",
      "     ------- ------------------------------- 2.4/11.9 MB 358.9 kB/s eta 0:00:27\n",
      "     ------- ------------------------------- 2.4/11.9 MB 358.9 kB/s eta 0:00:27\n",
      "     ------- ------------------------------- 2.4/11.9 MB 358.9 kB/s eta 0:00:27\n",
      "     -------- ------------------------------ 2.6/11.9 MB 324.0 kB/s eta 0:00:29\n",
      "     -------- ------------------------------ 2.6/11.9 MB 324.0 kB/s eta 0:00:29\n",
      "     -------- ------------------------------ 2.6/11.9 MB 324.0 kB/s eta 0:00:29\n",
      "     -------- ------------------------------ 2.6/11.9 MB 324.0 kB/s eta 0:00:29\n",
      "     -------- ------------------------------ 2.6/11.9 MB 324.0 kB/s eta 0:00:29\n",
      "     -------- ------------------------------ 2.6/11.9 MB 324.0 kB/s eta 0:00:29\n",
      "     --------- ----------------------------- 2.9/11.9 MB 305.1 kB/s eta 0:00:30\n",
      "     --------- ----------------------------- 2.9/11.9 MB 305.1 kB/s eta 0:00:30\n",
      "     --------- ----------------------------- 2.9/11.9 MB 305.1 kB/s eta 0:00:30\n",
      "     --------- ----------------------------- 2.9/11.9 MB 305.1 kB/s eta 0:00:30\n",
      "     --------- ----------------------------- 2.9/11.9 MB 305.1 kB/s eta 0:00:30\n",
      "     --------- ----------------------------- 2.9/11.9 MB 305.1 kB/s eta 0:00:30\n",
      "     ---------- ---------------------------- 3.1/11.9 MB 295.8 kB/s eta 0:00:30\n",
      "     ---------- ---------------------------- 3.1/11.9 MB 295.8 kB/s eta 0:00:30\n",
      "     ---------- ---------------------------- 3.1/11.9 MB 295.8 kB/s eta 0:00:30\n",
      "     ---------- ---------------------------- 3.1/11.9 MB 295.8 kB/s eta 0:00:30\n",
      "     ----------- --------------------------- 3.4/11.9 MB 293.5 kB/s eta 0:00:29\n",
      "     ----------- --------------------------- 3.4/11.9 MB 293.5 kB/s eta 0:00:29\n",
      "     ----------- --------------------------- 3.4/11.9 MB 293.5 kB/s eta 0:00:29\n",
      "     ----------- --------------------------- 3.4/11.9 MB 293.5 kB/s eta 0:00:29\n",
      "     ----------- --------------------------- 3.4/11.9 MB 293.5 kB/s eta 0:00:29\n",
      "     ------------ -------------------------- 3.7/11.9 MB 293.6 kB/s eta 0:00:28\n",
      "     ------------ -------------------------- 3.7/11.9 MB 293.6 kB/s eta 0:00:28\n",
      "     ------------ -------------------------- 3.7/11.9 MB 293.6 kB/s eta 0:00:28\n",
      "     ------------ -------------------------- 3.7/11.9 MB 293.6 kB/s eta 0:00:28\n",
      "     ------------ -------------------------- 3.9/11.9 MB 291.4 kB/s eta 0:00:28\n",
      "     ------------ -------------------------- 3.9/11.9 MB 291.4 kB/s eta 0:00:28\n",
      "     ------------ -------------------------- 3.9/11.9 MB 291.4 kB/s eta 0:00:28\n",
      "     ------------ -------------------------- 3.9/11.9 MB 291.4 kB/s eta 0:00:28\n",
      "     ------------- ------------------------- 4.2/11.9 MB 296.4 kB/s eta 0:00:26\n",
      "     ------------- ------------------------- 4.2/11.9 MB 296.4 kB/s eta 0:00:26\n",
      "     ------------- ------------------------- 4.2/11.9 MB 296.4 kB/s eta 0:00:26\n",
      "     -------------- ------------------------ 4.5/11.9 MB 301.6 kB/s eta 0:00:25\n",
      "     -------------- ------------------------ 4.5/11.9 MB 301.6 kB/s eta 0:00:25\n",
      "     -------------- ------------------------ 4.5/11.9 MB 301.6 kB/s eta 0:00:25\n",
      "     --------------- ----------------------- 4.7/11.9 MB 305.0 kB/s eta 0:00:24\n",
      "     --------------- ----------------------- 4.7/11.9 MB 305.0 kB/s eta 0:00:24\n",
      "     --------------- ----------------------- 4.7/11.9 MB 305.0 kB/s eta 0:00:24\n",
      "     --------------- ----------------------- 4.7/11.9 MB 305.0 kB/s eta 0:00:24\n",
      "     ---------------- ---------------------- 5.0/11.9 MB 305.7 kB/s eta 0:00:23\n",
      "     ---------------- ---------------------- 5.0/11.9 MB 305.7 kB/s eta 0:00:23\n",
      "     ---------------- ---------------------- 5.0/11.9 MB 305.7 kB/s eta 0:00:23\n",
      "     ----------------- --------------------- 5.2/11.9 MB 309.5 kB/s eta 0:00:22\n",
      "     ----------------- --------------------- 5.2/11.9 MB 309.5 kB/s eta 0:00:22\n",
      "     ----------------- --------------------- 5.2/11.9 MB 309.5 kB/s eta 0:00:22\n",
      "     ----------------- --------------------- 5.2/11.9 MB 309.5 kB/s eta 0:00:22\n",
      "     ------------------ -------------------- 5.5/11.9 MB 312.4 kB/s eta 0:00:21\n",
      "     ------------------ -------------------- 5.5/11.9 MB 312.4 kB/s eta 0:00:21\n",
      "     ------------------ -------------------- 5.8/11.9 MB 317.1 kB/s eta 0:00:20\n",
      "     ------------------ -------------------- 5.8/11.9 MB 317.1 kB/s eta 0:00:20\n",
      "     ------------------ -------------------- 5.8/11.9 MB 317.1 kB/s eta 0:00:20\n",
      "     ------------------ -------------------- 5.8/11.9 MB 317.1 kB/s eta 0:00:20\n",
      "     ------------------- ------------------- 6.0/11.9 MB 320.7 kB/s eta 0:00:19\n",
      "     ------------------- ------------------- 6.0/11.9 MB 320.7 kB/s eta 0:00:19\n",
      "     ------------------- ------------------- 6.0/11.9 MB 320.7 kB/s eta 0:00:19\n",
      "     ------------------- ------------------- 6.0/11.9 MB 320.7 kB/s eta 0:00:19\n",
      "     -------------------- ------------------ 6.3/11.9 MB 319.7 kB/s eta 0:00:18\n",
      "     --------------------- ----------------- 6.6/11.9 MB 327.4 kB/s eta 0:00:17\n",
      "     --------------------- ----------------- 6.6/11.9 MB 327.4 kB/s eta 0:00:17\n",
      "     --------------------- ----------------- 6.6/11.9 MB 327.4 kB/s eta 0:00:17\n",
      "     ---------------------- ---------------- 6.8/11.9 MB 333.1 kB/s eta 0:00:16\n",
      "     ---------------------- ---------------- 6.8/11.9 MB 333.1 kB/s eta 0:00:16\n",
      "     ----------------------- --------------- 7.1/11.9 MB 336.6 kB/s eta 0:00:15\n",
      "     ----------------------- --------------- 7.1/11.9 MB 336.6 kB/s eta 0:00:15\n",
      "     ------------------------ -------------- 7.3/11.9 MB 342.4 kB/s eta 0:00:14\n",
      "     ------------------------ -------------- 7.3/11.9 MB 342.4 kB/s eta 0:00:14\n",
      "     ------------------------ -------------- 7.3/11.9 MB 342.4 kB/s eta 0:00:14\n",
      "     ------------------------ -------------- 7.3/11.9 MB 342.4 kB/s eta 0:00:14\n",
      "     ------------------------- ------------- 7.6/11.9 MB 343.2 kB/s eta 0:00:13\n",
      "     ------------------------- ------------- 7.6/11.9 MB 343.2 kB/s eta 0:00:13\n",
      "     ------------------------- ------------- 7.6/11.9 MB 343.2 kB/s eta 0:00:13\n",
      "     ------------------------- ------------- 7.6/11.9 MB 343.2 kB/s eta 0:00:13\n",
      "     ------------------------- ------------- 7.9/11.9 MB 342.9 kB/s eta 0:00:12\n",
      "     ------------------------- ------------- 7.9/11.9 MB 342.9 kB/s eta 0:00:12\n",
      "     ------------------------- ------------- 7.9/11.9 MB 342.9 kB/s eta 0:00:12\n",
      "     -------------------------- ------------ 8.1/11.9 MB 345.2 kB/s eta 0:00:11\n",
      "     -------------------------- ------------ 8.1/11.9 MB 345.2 kB/s eta 0:00:11\n",
      "     --------------------------- ----------- 8.4/11.9 MB 348.1 kB/s eta 0:00:10\n",
      "     --------------------------- ----------- 8.4/11.9 MB 348.1 kB/s eta 0:00:10\n",
      "     --------------------------- ----------- 8.4/11.9 MB 348.1 kB/s eta 0:00:10\n",
      "     ---------------------------- ---------- 8.7/11.9 MB 349.1 kB/s eta 0:00:10\n",
      "     ---------------------------- ---------- 8.7/11.9 MB 349.1 kB/s eta 0:00:10\n",
      "     ---------------------------- ---------- 8.7/11.9 MB 349.1 kB/s eta 0:00:10\n",
      "     ----------------------------- --------- 8.9/11.9 MB 351.3 kB/s eta 0:00:09\n",
      "     ----------------------------- --------- 8.9/11.9 MB 351.3 kB/s eta 0:00:09\n",
      "     ----------------------------- --------- 8.9/11.9 MB 351.3 kB/s eta 0:00:09\n",
      "     ------------------------------ -------- 9.2/11.9 MB 353.9 kB/s eta 0:00:08\n",
      "     ------------------------------ -------- 9.2/11.9 MB 353.9 kB/s eta 0:00:08\n",
      "     ------------------------------ -------- 9.2/11.9 MB 353.9 kB/s eta 0:00:08\n",
      "     ------------------------------- ------- 9.4/11.9 MB 356.8 kB/s eta 0:00:07\n",
      "     ------------------------------- ------- 9.4/11.9 MB 356.8 kB/s eta 0:00:07\n",
      "     ------------------------------- ------- 9.7/11.9 MB 360.6 kB/s eta 0:00:06\n",
      "     ------------------------------- ------- 9.7/11.9 MB 360.6 kB/s eta 0:00:06\n",
      "     ------------------------------- ------ 10.0/11.9 MB 364.5 kB/s eta 0:00:06\n",
      "     ------------------------------- ------ 10.0/11.9 MB 364.5 kB/s eta 0:00:06\n",
      "     -------------------------------- ----- 10.2/11.9 MB 368.7 kB/s eta 0:00:05\n",
      "     -------------------------------- ----- 10.2/11.9 MB 368.7 kB/s eta 0:00:05\n",
      "     -------------------------------- ----- 10.2/11.9 MB 368.7 kB/s eta 0:00:05\n",
      "     --------------------------------- ---- 10.5/11.9 MB 369.5 kB/s eta 0:00:04\n",
      "     --------------------------------- ---- 10.5/11.9 MB 369.5 kB/s eta 0:00:04\n",
      "     --------------------------------- ---- 10.5/11.9 MB 369.5 kB/s eta 0:00:04\n",
      "     --------------------------------- ---- 10.5/11.9 MB 369.5 kB/s eta 0:00:04\n",
      "     ---------------------------------- --- 10.7/11.9 MB 368.9 kB/s eta 0:00:03\n",
      "     ---------------------------------- --- 10.7/11.9 MB 368.9 kB/s eta 0:00:03\n",
      "     ----------------------------------- -- 11.0/11.9 MB 370.6 kB/s eta 0:00:03\n",
      "     ----------------------------------- -- 11.0/11.9 MB 370.6 kB/s eta 0:00:03\n",
      "     ----------------------------------- -- 11.0/11.9 MB 370.6 kB/s eta 0:00:03\n",
      "     ------------------------------------ - 11.3/11.9 MB 372.0 kB/s eta 0:00:02\n",
      "     ------------------------------------ - 11.3/11.9 MB 372.0 kB/s eta 0:00:02\n",
      "     ------------------------------------ - 11.5/11.9 MB 376.3 kB/s eta 0:00:01\n",
      "     ------------------------------------ - 11.5/11.9 MB 376.3 kB/s eta 0:00:01\n",
      "     ------------------------------------ - 11.5/11.9 MB 376.3 kB/s eta 0:00:01\n",
      "     ------------------------------------ - 11.5/11.9 MB 376.3 kB/s eta 0:00:01\n",
      "     -------------------------------------- 11.9/11.9 MB 369.8 kB/s eta 0:00:00\n",
      "  Preparing metadata (setup.py): started\n",
      "  Preparing metadata (setup.py): finished with status 'done'\n",
      "Building wheels for collected packages: mysql-connector\n",
      "  Building wheel for mysql-connector (setup.py): started\n",
      "  Building wheel for mysql-connector (setup.py): finished with status 'done'\n",
      "  Created wheel for mysql-connector: filename=mysql_connector-2.2.9-cp312-cp312-win_amd64.whl size=247958 sha256=c6b33a563708262588b454efe3542b2f5543ad7d8605ec91a49b26e152c736a9\n",
      "  Stored in directory: c:\\users\\imran\\appdata\\local\\pip\\cache\\wheels\\03\\17\\fa\\d7604c72dd3dd6d3eb3d249abf36cc532c9a9b4354b8f1bc4f\n",
      "Successfully built mysql-connector\n",
      "Installing collected packages: mysql-connector\n",
      "Successfully installed mysql-connector-2.2.9\n",
      "Note: you may need to restart the kernel to use updated packages.\n"
     ]
    },
    {
     "name": "stderr",
     "output_type": "stream",
     "text": [
      "WARNING: Ignoring invalid distribution ~orch (C:\\Users\\imran\\AppData\\Roaming\\Python\\Python312\\site-packages)\n",
      "WARNING: Ignoring invalid distribution ~orch (C:\\Users\\imran\\AppData\\Roaming\\Python\\Python312\\site-packages)\n",
      "WARNING: Ignoring invalid distribution ~orch (C:\\Users\\imran\\AppData\\Roaming\\Python\\Python312\\site-packages)\n",
      "\n",
      "[notice] A new release of pip is available: 24.3.1 -> 25.0.1\n",
      "[notice] To update, run: python.exe -m pip install --upgrade pip\n"
     ]
    }
   ],
   "source": [
    "pip install mysql-connector"
   ]
  },
  {
   "cell_type": "code",
   "execution_count": 7,
   "id": "72b18453-4ad9-4ff2-9f28-6f296c5ae222",
   "metadata": {},
   "outputs": [
    {
     "ename": "NotSupportedError",
     "evalue": "Authentication plugin 'caching_sha2_password' is not supported",
     "output_type": "error",
     "traceback": [
      "\u001b[1;31m---------------------------------------------------------------------------\u001b[0m",
      "\u001b[1;31mNotSupportedError\u001b[0m                         Traceback (most recent call last)",
      "Cell \u001b[1;32mIn[7], line 3\u001b[0m\n\u001b[0;32m      1\u001b[0m \u001b[38;5;28;01mimport\u001b[39;00m \u001b[38;5;21;01mmysql\u001b[39;00m\u001b[38;5;21;01m.\u001b[39;00m\u001b[38;5;21;01mconnector\u001b[39;00m\n\u001b[1;32m----> 3\u001b[0m myconn \u001b[38;5;241m=\u001b[39m \u001b[43mmysql\u001b[49m\u001b[38;5;241;43m.\u001b[39;49m\u001b[43mconnector\u001b[49m\u001b[38;5;241;43m.\u001b[39;49m\u001b[43mconnect\u001b[49m\u001b[43m(\u001b[49m\n\u001b[0;32m      4\u001b[0m \u001b[43m    \u001b[49m\u001b[43mhost\u001b[49m\u001b[38;5;241;43m=\u001b[39;49m\u001b[38;5;124;43m'\u001b[39;49m\u001b[38;5;124;43mlocalhost\u001b[39;49m\u001b[38;5;124;43m'\u001b[39;49m\u001b[43m,\u001b[49m\n\u001b[0;32m      5\u001b[0m \u001b[43m    \u001b[49m\u001b[43muser\u001b[49m\u001b[38;5;241;43m=\u001b[39;49m\u001b[38;5;124;43m'\u001b[39;49m\u001b[38;5;124;43mroot\u001b[39;49m\u001b[38;5;124;43m'\u001b[39;49m\u001b[43m,\u001b[49m\n\u001b[0;32m      6\u001b[0m \u001b[43m    \u001b[49m\u001b[43mpassword\u001b[49m\u001b[38;5;241;43m=\u001b[39;49m\u001b[38;5;124;43m'\u001b[39;49m\u001b[38;5;124;43mroot\u001b[39;49m\u001b[38;5;124;43m'\u001b[39;49m\n\u001b[0;32m      7\u001b[0m \u001b[43m)\u001b[49m\n\u001b[0;32m      9\u001b[0m \u001b[38;5;66;03m# Create a cursor object to interact with the database\u001b[39;00m\n\u001b[0;32m     10\u001b[0m cursor \u001b[38;5;241m=\u001b[39m myconn\u001b[38;5;241m.\u001b[39mcursor()\n",
      "File \u001b[1;32m~\\AppData\\Roaming\\Python\\Python312\\site-packages\\mysql\\connector\\__init__.py:179\u001b[0m, in \u001b[0;36mconnect\u001b[1;34m(*args, **kwargs)\u001b[0m\n\u001b[0;32m    177\u001b[0m     \u001b[38;5;28;01mreturn\u001b[39;00m CMySQLConnection(\u001b[38;5;241m*\u001b[39margs, \u001b[38;5;241m*\u001b[39m\u001b[38;5;241m*\u001b[39mkwargs)\n\u001b[0;32m    178\u001b[0m \u001b[38;5;28;01melse\u001b[39;00m:\n\u001b[1;32m--> 179\u001b[0m     \u001b[38;5;28;01mreturn\u001b[39;00m \u001b[43mMySQLConnection\u001b[49m\u001b[43m(\u001b[49m\u001b[38;5;241;43m*\u001b[39;49m\u001b[43margs\u001b[49m\u001b[43m,\u001b[49m\u001b[43m \u001b[49m\u001b[38;5;241;43m*\u001b[39;49m\u001b[38;5;241;43m*\u001b[39;49m\u001b[43mkwargs\u001b[49m\u001b[43m)\u001b[49m\n",
      "File \u001b[1;32m~\\AppData\\Roaming\\Python\\Python312\\site-packages\\mysql\\connector\\connection.py:95\u001b[0m, in \u001b[0;36mMySQLConnection.__init__\u001b[1;34m(self, *args, **kwargs)\u001b[0m\n\u001b[0;32m     92\u001b[0m \u001b[38;5;28mself\u001b[39m\u001b[38;5;241m.\u001b[39m_pool_config_version \u001b[38;5;241m=\u001b[39m \u001b[38;5;28;01mNone\u001b[39;00m\n\u001b[0;32m     94\u001b[0m \u001b[38;5;28;01mif\u001b[39;00m \u001b[38;5;28mlen\u001b[39m(kwargs) \u001b[38;5;241m>\u001b[39m \u001b[38;5;241m0\u001b[39m:\n\u001b[1;32m---> 95\u001b[0m     \u001b[38;5;28;43mself\u001b[39;49m\u001b[38;5;241;43m.\u001b[39;49m\u001b[43mconnect\u001b[49m\u001b[43m(\u001b[49m\u001b[38;5;241;43m*\u001b[39;49m\u001b[38;5;241;43m*\u001b[39;49m\u001b[43mkwargs\u001b[49m\u001b[43m)\u001b[49m\n",
      "File \u001b[1;32m~\\AppData\\Roaming\\Python\\Python312\\site-packages\\mysql\\connector\\abstracts.py:716\u001b[0m, in \u001b[0;36mMySQLConnectionAbstract.connect\u001b[1;34m(self, **kwargs)\u001b[0m\n\u001b[0;32m    713\u001b[0m     \u001b[38;5;28mself\u001b[39m\u001b[38;5;241m.\u001b[39mconfig(\u001b[38;5;241m*\u001b[39m\u001b[38;5;241m*\u001b[39mkwargs)\n\u001b[0;32m    715\u001b[0m \u001b[38;5;28mself\u001b[39m\u001b[38;5;241m.\u001b[39mdisconnect()\n\u001b[1;32m--> 716\u001b[0m \u001b[38;5;28;43mself\u001b[39;49m\u001b[38;5;241;43m.\u001b[39;49m\u001b[43m_open_connection\u001b[49m\u001b[43m(\u001b[49m\u001b[43m)\u001b[49m\n\u001b[0;32m    717\u001b[0m \u001b[38;5;28mself\u001b[39m\u001b[38;5;241m.\u001b[39m_post_connection()\n",
      "File \u001b[1;32m~\\AppData\\Roaming\\Python\\Python312\\site-packages\\mysql\\connector\\connection.py:208\u001b[0m, in \u001b[0;36mMySQLConnection._open_connection\u001b[1;34m(self)\u001b[0m\n\u001b[0;32m    206\u001b[0m \u001b[38;5;28mself\u001b[39m\u001b[38;5;241m.\u001b[39m_socket\u001b[38;5;241m.\u001b[39mopen_connection()\n\u001b[0;32m    207\u001b[0m \u001b[38;5;28mself\u001b[39m\u001b[38;5;241m.\u001b[39m_do_handshake()\n\u001b[1;32m--> 208\u001b[0m \u001b[38;5;28;43mself\u001b[39;49m\u001b[38;5;241;43m.\u001b[39;49m\u001b[43m_do_auth\u001b[49m\u001b[43m(\u001b[49m\u001b[38;5;28;43mself\u001b[39;49m\u001b[38;5;241;43m.\u001b[39;49m\u001b[43m_user\u001b[49m\u001b[43m,\u001b[49m\u001b[43m \u001b[49m\u001b[38;5;28;43mself\u001b[39;49m\u001b[38;5;241;43m.\u001b[39;49m\u001b[43m_password\u001b[49m\u001b[43m,\u001b[49m\n\u001b[0;32m    209\u001b[0m \u001b[43m              \u001b[49m\u001b[38;5;28;43mself\u001b[39;49m\u001b[38;5;241;43m.\u001b[39;49m\u001b[43m_database\u001b[49m\u001b[43m,\u001b[49m\u001b[43m \u001b[49m\u001b[38;5;28;43mself\u001b[39;49m\u001b[38;5;241;43m.\u001b[39;49m\u001b[43m_client_flags\u001b[49m\u001b[43m,\u001b[49m\u001b[43m \u001b[49m\u001b[38;5;28;43mself\u001b[39;49m\u001b[38;5;241;43m.\u001b[39;49m\u001b[43m_charset_id\u001b[49m\u001b[43m,\u001b[49m\n\u001b[0;32m    210\u001b[0m \u001b[43m              \u001b[49m\u001b[38;5;28;43mself\u001b[39;49m\u001b[38;5;241;43m.\u001b[39;49m\u001b[43m_ssl\u001b[49m\u001b[43m)\u001b[49m\n\u001b[0;32m    211\u001b[0m \u001b[38;5;28mself\u001b[39m\u001b[38;5;241m.\u001b[39mset_converter_class(\u001b[38;5;28mself\u001b[39m\u001b[38;5;241m.\u001b[39m_converter_class)\n\u001b[0;32m    212\u001b[0m \u001b[38;5;28;01mif\u001b[39;00m \u001b[38;5;28mself\u001b[39m\u001b[38;5;241m.\u001b[39m_client_flags \u001b[38;5;241m&\u001b[39m ClientFlag\u001b[38;5;241m.\u001b[39mCOMPRESS:\n",
      "File \u001b[1;32m~\\AppData\\Roaming\\Python\\Python312\\site-packages\\mysql\\connector\\connection.py:137\u001b[0m, in \u001b[0;36mMySQLConnection._do_auth\u001b[1;34m(self, username, password, database, client_flags, charset, ssl_options)\u001b[0m\n\u001b[0;32m    134\u001b[0m     \u001b[38;5;28mself\u001b[39m\u001b[38;5;241m.\u001b[39m_socket\u001b[38;5;241m.\u001b[39mswitch_to_ssl(\u001b[38;5;241m*\u001b[39m\u001b[38;5;241m*\u001b[39mssl_options)\n\u001b[0;32m    135\u001b[0m     \u001b[38;5;28mself\u001b[39m\u001b[38;5;241m.\u001b[39m_ssl_active \u001b[38;5;241m=\u001b[39m \u001b[38;5;28;01mTrue\u001b[39;00m\n\u001b[1;32m--> 137\u001b[0m packet \u001b[38;5;241m=\u001b[39m \u001b[38;5;28;43mself\u001b[39;49m\u001b[38;5;241;43m.\u001b[39;49m\u001b[43m_protocol\u001b[49m\u001b[38;5;241;43m.\u001b[39;49m\u001b[43mmake_auth\u001b[49m\u001b[43m(\u001b[49m\n\u001b[0;32m    138\u001b[0m \u001b[43m    \u001b[49m\u001b[43mhandshake\u001b[49m\u001b[38;5;241;43m=\u001b[39;49m\u001b[38;5;28;43mself\u001b[39;49m\u001b[38;5;241;43m.\u001b[39;49m\u001b[43m_handshake\u001b[49m\u001b[43m,\u001b[49m\n\u001b[0;32m    139\u001b[0m \u001b[43m    \u001b[49m\u001b[43musername\u001b[49m\u001b[38;5;241;43m=\u001b[39;49m\u001b[43musername\u001b[49m\u001b[43m,\u001b[49m\u001b[43m \u001b[49m\u001b[43mpassword\u001b[49m\u001b[38;5;241;43m=\u001b[39;49m\u001b[43mpassword\u001b[49m\u001b[43m,\u001b[49m\u001b[43m \u001b[49m\u001b[43mdatabase\u001b[49m\u001b[38;5;241;43m=\u001b[39;49m\u001b[43mdatabase\u001b[49m\u001b[43m,\u001b[49m\n\u001b[0;32m    140\u001b[0m \u001b[43m    \u001b[49m\u001b[43mcharset\u001b[49m\u001b[38;5;241;43m=\u001b[39;49m\u001b[43mcharset\u001b[49m\u001b[43m,\u001b[49m\u001b[43m \u001b[49m\u001b[43mclient_flags\u001b[49m\u001b[38;5;241;43m=\u001b[39;49m\u001b[43mclient_flags\u001b[49m\u001b[43m,\u001b[49m\n\u001b[0;32m    141\u001b[0m \u001b[43m    \u001b[49m\u001b[43mssl_enabled\u001b[49m\u001b[38;5;241;43m=\u001b[39;49m\u001b[38;5;28;43mself\u001b[39;49m\u001b[38;5;241;43m.\u001b[39;49m\u001b[43m_ssl_active\u001b[49m\u001b[43m,\u001b[49m\n\u001b[0;32m    142\u001b[0m \u001b[43m    \u001b[49m\u001b[43mauth_plugin\u001b[49m\u001b[38;5;241;43m=\u001b[39;49m\u001b[38;5;28;43mself\u001b[39;49m\u001b[38;5;241;43m.\u001b[39;49m\u001b[43m_auth_plugin\u001b[49m\u001b[43m)\u001b[49m\n\u001b[0;32m    143\u001b[0m \u001b[38;5;28mself\u001b[39m\u001b[38;5;241m.\u001b[39m_socket\u001b[38;5;241m.\u001b[39msend(packet)\n\u001b[0;32m    144\u001b[0m \u001b[38;5;28mself\u001b[39m\u001b[38;5;241m.\u001b[39m_auth_switch_request(username, password)\n",
      "File \u001b[1;32m~\\AppData\\Roaming\\Python\\Python312\\site-packages\\mysql\\connector\\protocol.py:99\u001b[0m, in \u001b[0;36mMySQLProtocol.make_auth\u001b[1;34m(self, handshake, username, password, database, charset, client_flags, max_allowed_packet, ssl_enabled, auth_plugin)\u001b[0m\n\u001b[0;32m     93\u001b[0m     username_bytes \u001b[38;5;241m=\u001b[39m username\n\u001b[0;32m     94\u001b[0m packet \u001b[38;5;241m=\u001b[39m struct\u001b[38;5;241m.\u001b[39mpack(\u001b[38;5;124m'\u001b[39m\u001b[38;5;124m<IIB\u001b[39m\u001b[38;5;132;01m{filler}\u001b[39;00m\u001b[38;5;132;01m{usrlen}\u001b[39;00m\u001b[38;5;124msx\u001b[39m\u001b[38;5;124m'\u001b[39m\u001b[38;5;241m.\u001b[39mformat(\n\u001b[0;32m     95\u001b[0m     filler\u001b[38;5;241m=\u001b[39m\u001b[38;5;124m'\u001b[39m\u001b[38;5;124mx\u001b[39m\u001b[38;5;124m'\u001b[39m \u001b[38;5;241m*\u001b[39m \u001b[38;5;241m23\u001b[39m, usrlen\u001b[38;5;241m=\u001b[39m\u001b[38;5;28mlen\u001b[39m(username_bytes)),\n\u001b[0;32m     96\u001b[0m                      client_flags, max_allowed_packet, charset,\n\u001b[0;32m     97\u001b[0m                      username_bytes)\n\u001b[1;32m---> 99\u001b[0m packet \u001b[38;5;241m+\u001b[39m\u001b[38;5;241m=\u001b[39m \u001b[38;5;28;43mself\u001b[39;49m\u001b[38;5;241;43m.\u001b[39;49m\u001b[43m_auth_response\u001b[49m\u001b[43m(\u001b[49m\u001b[43mclient_flags\u001b[49m\u001b[43m,\u001b[49m\u001b[43m \u001b[49m\u001b[43musername\u001b[49m\u001b[43m,\u001b[49m\u001b[43m \u001b[49m\u001b[43mpassword\u001b[49m\u001b[43m,\u001b[49m\n\u001b[0;32m    100\u001b[0m \u001b[43m                              \u001b[49m\u001b[43mdatabase\u001b[49m\u001b[43m,\u001b[49m\n\u001b[0;32m    101\u001b[0m \u001b[43m                              \u001b[49m\u001b[43mauth_plugin\u001b[49m\u001b[43m,\u001b[49m\n\u001b[0;32m    102\u001b[0m \u001b[43m                              \u001b[49m\u001b[43mauth_data\u001b[49m\u001b[43m,\u001b[49m\u001b[43m \u001b[49m\u001b[43mssl_enabled\u001b[49m\u001b[43m)\u001b[49m\n\u001b[0;32m    104\u001b[0m packet \u001b[38;5;241m+\u001b[39m\u001b[38;5;241m=\u001b[39m \u001b[38;5;28mself\u001b[39m\u001b[38;5;241m.\u001b[39m_connect_with_db(client_flags, database)\n\u001b[0;32m    106\u001b[0m \u001b[38;5;28;01mif\u001b[39;00m client_flags \u001b[38;5;241m&\u001b[39m ClientFlag\u001b[38;5;241m.\u001b[39mPLUGIN_AUTH:\n",
      "File \u001b[1;32m~\\AppData\\Roaming\\Python\\Python312\\site-packages\\mysql\\connector\\protocol.py:58\u001b[0m, in \u001b[0;36mMySQLProtocol._auth_response\u001b[1;34m(self, client_flags, username, password, database, auth_plugin, auth_data, ssl_enabled)\u001b[0m\n\u001b[0;32m     55\u001b[0m     \u001b[38;5;28;01mreturn\u001b[39;00m \u001b[38;5;124mb\u001b[39m\u001b[38;5;124m'\u001b[39m\u001b[38;5;130;01m\\x00\u001b[39;00m\u001b[38;5;124m'\u001b[39m\n\u001b[0;32m     57\u001b[0m \u001b[38;5;28;01mtry\u001b[39;00m:\n\u001b[1;32m---> 58\u001b[0m     auth \u001b[38;5;241m=\u001b[39m \u001b[43mget_auth_plugin\u001b[49m\u001b[43m(\u001b[49m\u001b[43mauth_plugin\u001b[49m\u001b[43m)\u001b[49m(\n\u001b[0;32m     59\u001b[0m         auth_data,\n\u001b[0;32m     60\u001b[0m         username\u001b[38;5;241m=\u001b[39musername, password\u001b[38;5;241m=\u001b[39mpassword, database\u001b[38;5;241m=\u001b[39mdatabase,\n\u001b[0;32m     61\u001b[0m         ssl_enabled\u001b[38;5;241m=\u001b[39mssl_enabled)\n\u001b[0;32m     62\u001b[0m     plugin_auth_response \u001b[38;5;241m=\u001b[39m auth\u001b[38;5;241m.\u001b[39mauth_response()\n\u001b[0;32m     63\u001b[0m \u001b[38;5;28;01mexcept\u001b[39;00m (\u001b[38;5;167;01mTypeError\u001b[39;00m, errors\u001b[38;5;241m.\u001b[39mInterfaceError) \u001b[38;5;28;01mas\u001b[39;00m exc:\n",
      "File \u001b[1;32m~\\AppData\\Roaming\\Python\\Python312\\site-packages\\mysql\\connector\\authentication.py:190\u001b[0m, in \u001b[0;36mget_auth_plugin\u001b[1;34m(plugin_name)\u001b[0m\n\u001b[0;32m    187\u001b[0m     \u001b[38;5;28;01mif\u001b[39;00m authclass\u001b[38;5;241m.\u001b[39mplugin_name \u001b[38;5;241m==\u001b[39m plugin_name:\n\u001b[0;32m    188\u001b[0m         \u001b[38;5;28;01mreturn\u001b[39;00m authclass\n\u001b[1;32m--> 190\u001b[0m \u001b[38;5;28;01mraise\u001b[39;00m errors\u001b[38;5;241m.\u001b[39mNotSupportedError(\n\u001b[0;32m    191\u001b[0m     \u001b[38;5;124m\"\u001b[39m\u001b[38;5;124mAuthentication plugin \u001b[39m\u001b[38;5;124m'\u001b[39m\u001b[38;5;132;01m{0}\u001b[39;00m\u001b[38;5;124m'\u001b[39m\u001b[38;5;124m is not supported\u001b[39m\u001b[38;5;124m\"\u001b[39m\u001b[38;5;241m.\u001b[39mformat(plugin_name))\n",
      "\u001b[1;31mNotSupportedError\u001b[0m: Authentication plugin 'caching_sha2_password' is not supported"
     ]
    }
   ],
   "source": [
    "import mysql.connector\n",
    "\n",
    "myconn = mysql.connector.connect(\n",
    "    host='localhost',\n",
    "    user='root',\n",
    "    password='root'\n",
    ")\n",
    "\n",
    "# Create a cursor object to interact with the database\n",
    "cursor = myconn.cursor()\n",
    "\n",
    "# Check connection\n",
    "if myconn.is_connected():\n",
    "    print(\"Connected to MySQL successfully!\")\n"
   ]
  },
  {
   "cell_type": "code",
   "execution_count": 8,
   "id": "0c8e83fa-ca51-4856-be2b-2db926ea0ca8",
   "metadata": {},
   "outputs": [
    {
     "name": "stdout",
     "output_type": "stream",
     "text": [
      "Defaulting to user installation because normal site-packages is not writeableNote: you may need to restart the kernel to use updated packages.\n",
      "\n",
      "Requirement already satisfied: pymysql in c:\\users\\imran\\appdata\\roaming\\python\\python312\\site-packages (1.1.1)\n"
     ]
    },
    {
     "name": "stderr",
     "output_type": "stream",
     "text": [
      "WARNING: Ignoring invalid distribution ~orch (C:\\Users\\imran\\AppData\\Roaming\\Python\\Python312\\site-packages)\n",
      "WARNING: Ignoring invalid distribution ~orch (C:\\Users\\imran\\AppData\\Roaming\\Python\\Python312\\site-packages)\n",
      "WARNING: Ignoring invalid distribution ~orch (C:\\Users\\imran\\AppData\\Roaming\\Python\\Python312\\site-packages)\n",
      "\n",
      "[notice] A new release of pip is available: 24.3.1 -> 25.0.1\n",
      "[notice] To update, run: python.exe -m pip install --upgrade pip\n"
     ]
    }
   ],
   "source": [
    "pip install pymysql"
   ]
  },
  {
   "cell_type": "code",
   "execution_count": 17,
   "id": "adec3d70-eda3-4c77-b80a-c57fb63a86ce",
   "metadata": {},
   "outputs": [
    {
     "name": "stdout",
     "output_type": "stream",
     "text": [
      "('atliq_tshirts',)\n",
      "('college',)\n",
      "('information_schema',)\n",
      "('mysql',)\n",
      "('pc2',)\n",
      "('performance_schema',)\n",
      "('practice',)\n",
      "('pywit',)\n",
      "('studentdb',)\n",
      "('sys',)\n"
     ]
    }
   ],
   "source": [
    "import pymysql\n",
    "\n",
    "conn=pymysql.connect(\n",
    "    host='localhost',\n",
    "    user='root',\n",
    "    password='root'\n",
    ")\n",
    "\n",
    "cur =conn.cursor()\n",
    "cur.execute(\"show databases\")\n",
    "\n",
    "for i in cur:\n",
    "    print(i)"
   ]
  },
  {
   "cell_type": "code",
   "execution_count": 2,
   "id": "91bb7ced-f356-462e-92a2-0944a840ca43",
   "metadata": {},
   "outputs": [
    {
     "name": "stdout",
     "output_type": "stream",
     "text": [
      "('id', 'int', 'NO', 'PRI', None, '')\n",
      "('name', 'varchar(20)', 'YES', '', None, '')\n",
      "('age', 'int', 'YES', '', None, '')\n"
     ]
    }
   ],
   "source": [
    "import pymysql\n",
    "\n",
    "conn=pymysql.connect(\n",
    "    host='localhost',\n",
    "    user='root',\n",
    "    password='root',\n",
    "    database='practice'\n",
    ")\n",
    "cur = conn.cursor()\n",
    "#cur.execute('show tables')\n",
    "\n",
    "cur.execute(\"desc new\")\n",
    "for i in cur:\n",
    "    print (i)\n"
   ]
  },
  {
   "cell_type": "code",
   "execution_count": null,
   "id": "b2bd7361-e4aa-401d-abf1-63d4aea415d9",
   "metadata": {},
   "outputs": [],
   "source": []
  }
 ],
 "metadata": {
  "kernelspec": {
   "display_name": "Python 3 (ipykernel)",
   "language": "python",
   "name": "python3"
  },
  "language_info": {
   "codemirror_mode": {
    "name": "ipython",
    "version": 3
   },
   "file_extension": ".py",
   "mimetype": "text/x-python",
   "name": "python",
   "nbconvert_exporter": "python",
   "pygments_lexer": "ipython3",
   "version": "3.12.0"
  }
 },
 "nbformat": 4,
 "nbformat_minor": 5
}
