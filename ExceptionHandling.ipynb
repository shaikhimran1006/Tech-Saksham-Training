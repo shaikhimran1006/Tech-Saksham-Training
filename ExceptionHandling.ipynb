{
 "cells": [
  {
   "cell_type": "code",
   "execution_count": 1,
   "id": "8a60aa54-e1e1-4c29-af17-856021edbb51",
   "metadata": {},
   "outputs": [
    {
     "data": {
      "text/plain": [
       "'\\ntry:\\n    main logic of application\\nexcept:\\n    here your error get raised if it found\\n'"
      ]
     },
     "execution_count": 1,
     "metadata": {},
     "output_type": "execute_result"
    }
   ],
   "source": [
    "#exception Handling\n",
    "'''\n",
    "try:\n",
    "    main logic of application\n",
    "except:\n",
    "    here your error get raised if it found\n",
    "'''"
   ]
  },
  {
   "cell_type": "code",
   "execution_count": 3,
   "id": "105e088d-af72-4d81-be9c-cdbbb1571407",
   "metadata": {},
   "outputs": [
    {
     "name": "stdout",
     "output_type": "stream",
     "text": [
      "try is working fine\n",
      "Eror in code\n"
     ]
    }
   ],
   "source": [
    "try:\n",
    "    print(\"try is working fine\")\n",
    "    a=1/0\n",
    "except:\n",
    "    print(\"Eror in code\")"
   ]
  },
  {
   "cell_type": "code",
   "execution_count": 4,
   "id": "1e390601-0bd1-43a0-9b5b-ed703b2c9cd0",
   "metadata": {},
   "outputs": [
    {
     "name": "stdout",
     "output_type": "stream",
     "text": [
      "division by zero\n"
     ]
    }
   ],
   "source": [
    "try:\n",
    "    a=1/0\n",
    "except Exception as a:\n",
    "    print(a)"
   ]
  },
  {
   "cell_type": "code",
   "execution_count": 10,
   "id": "167d49d6-c4f4-44d7-b84c-181c5a0a2fa3",
   "metadata": {},
   "outputs": [
    {
     "name": "stdout",
     "output_type": "stream",
     "text": [
      "list index out of range\n",
      "always run\n"
     ]
    }
   ],
   "source": [
    "try:\n",
    "    a=[1,2]\n",
    "    print(a[4])\n",
    "    print(\"working.....\")\n",
    "except Exception as a:\n",
    "    print(a)\n",
    "\n",
    "else:#only run when try run\n",
    "    print(\"try executed successfully\")\n",
    "\n",
    "finally:\n",
    "    print(\"always run\")"
   ]
  },
  {
   "cell_type": "code",
   "execution_count": 14,
   "id": "318266fa-ecd9-45c6-bb73-0ef9505d5b1e",
   "metadata": {},
   "outputs": [
    {
     "data": {
      "text/plain": [
       "'create project for car search base on price range\\ninput min max'"
      ]
     },
     "execution_count": 14,
     "metadata": {},
     "output_type": "execute_result"
    }
   ],
   "source": [
    "'''create project for car search base on price range\n",
    "input min max'''\n",
    "\n"
   ]
  },
  {
   "cell_type": "code",
   "execution_count": 21,
   "id": "db42e574-22d0-46ba-952c-ef6ab9cd7e5c",
   "metadata": {},
   "outputs": [
    {
     "name": "stdin",
     "output_type": "stream",
     "text": [
      "Enter minimum price:  10000\n",
      "Enter maximum price:  50000\n"
     ]
    },
    {
     "name": "stdout",
     "output_type": "stream",
     "text": [
      "Cars within the price range:\n",
      "Toyota Corolla - ₹20000\n",
      "Honda Civic - ₹22000\n",
      "Ford Focus - ₹19000\n",
      "BMW 3 Series - ₹40000\n",
      "Audi A4 - ₹38000\n",
      "Mercedes-Benz C-Class - ₹42000\n",
      "Hyundai Elantra - ₹18000\n",
      "Kia Forte - ₹17000\n"
     ]
    }
   ],
   "source": [
    "class Car:\n",
    "    def __init__(self, name, price):\n",
    "        self.name = name\n",
    "        self.price = price\n",
    "\n",
    "class CarSearch:\n",
    "    def __init__(self):\n",
    "        self.cars = [\n",
    "            Car(\"Toyota Corolla\", 20000),\n",
    "            Car(\"Honda Civic\", 22000),\n",
    "            Car(\"Ford Focus\", 19000),\n",
    "            Car(\"BMW 3 Series\", 40000),\n",
    "            Car(\"Audi A4\", 38000),\n",
    "            Car(\"Mercedes-Benz C-Class\", 42000),\n",
    "            Car(\"Hyundai Elantra\", 18000),\n",
    "            Car(\"Kia Forte\", 17000)\n",
    "        ]\n",
    "    \n",
    "    def search_by_price_range(self, min_price, max_price):\n",
    "        result = [car for car in self.cars if min_price <= car.price <= max_price]\n",
    "        return result\n",
    "\n",
    "    car_search = CarSearch()\n",
    "    \n",
    "    try:\n",
    "        min_price = int(input(\"Enter minimum price: \"))\n",
    "        max_price = int(input(\"Enter maximum price: \"))\n",
    "        \n",
    "        if min_price > max_price:\n",
    "            raise ValueError(\"Minimum price cannot be greater than maximum price.\")\n",
    "        \n",
    "        matching_cars = car_search.search_by_price_range(min_price, max_price)\n",
    "        \n",
    "        if matching_cars:\n",
    "            print(\"Cars within the price range:\")\n",
    "            for car in matching_cars:\n",
    "                print(f\"{car.name} - ₹{car.price}\")\n",
    "        else:\n",
    "            print(\"No cars found in this price range.\")\n",
    "    \n",
    "    except ValueError as e:\n",
    "        print(f\"Invalid input: {e}\")\n"
   ]
  },
  {
   "cell_type": "code",
   "execution_count": 4,
   "id": "b66c3dc5-b2de-4c2d-8d38-74ef3dc5f06c",
   "metadata": {},
   "outputs": [
    {
     "name": "stdin",
     "output_type": "stream",
     "text": [
      "Enter minimum price:  12500\n",
      "Enter maximum price:  18500\n"
     ]
    },
    {
     "name": "stdout",
     "output_type": "stream",
     "text": [
      "Cars within the price range:\n",
      "Hyundai Elantra - ₹18000\n",
      "Kia Forte - ₹17000\n"
     ]
    }
   ],
   "source": [
    "cars = [\n",
    "    (\"Toyota Corolla\", 20000),\n",
    "    (\"Honda Civic\", 22000),\n",
    "    (\"Ford Focus\", 19000),\n",
    "    (\"BMW 3 Series\", 40000),\n",
    "    (\"Audi A4\", 38000),\n",
    "    (\"Mercedes-Benz C-Class\", 42000),\n",
    "    (\"Hyundai Elantra\", 18000),\n",
    "    (\"Kia Forte\", 17000)\n",
    "]\n",
    "\n",
    "def search_by_price_range(min_price, max_price):\n",
    "    return [car for car in cars if min_price <= car[1] <= max_price]\n",
    "\n",
    "def get_price_range():\n",
    "    try:\n",
    "        min_price = int(input(\"Enter minimum price: \"))\n",
    "        max_price = int(input(\"Enter maximum price: \"))\n",
    "        \n",
    "        if min_price > max_price:\n",
    "            raise ValueError(\"Minimum price cannot be greater than maximum price.\")\n",
    "        \n",
    "        return min_price, max_price\n",
    "    except ValueError as e:\n",
    "        print(f\"Invalid input: {e}\")\n",
    "        return None, None\n",
    "\n",
    "min_price, max_price = get_price_range()\n",
    "\n",
    "if min_price is not None and max_price is not None:\n",
    "    matching_cars = search_by_price_range(min_price, max_price)\n",
    "    \n",
    "    if matching_cars:\n",
    "        print(\"Cars within the price range:\")\n",
    "        for car in matching_cars:\n",
    "            print(f\"{car[0]} - ₹{car[1]}\")\n",
    "    else:\n",
    "        print(\"No cars found in this price range.\")\n"
   ]
  },
  {
   "cell_type": "code",
   "execution_count": null,
   "id": "a9de5127-094f-4cef-b9b9-435d4bd4cd64",
   "metadata": {},
   "outputs": [],
   "source": []
  }
 ],
 "metadata": {
  "kernelspec": {
   "display_name": "Python 3 (ipykernel)",
   "language": "python",
   "name": "python3"
  },
  "language_info": {
   "codemirror_mode": {
    "name": "ipython",
    "version": 3
   },
   "file_extension": ".py",
   "mimetype": "text/x-python",
   "name": "python",
   "nbconvert_exporter": "python",
   "pygments_lexer": "ipython3",
   "version": "3.12.0"
  }
 },
 "nbformat": 4,
 "nbformat_minor": 5
}
