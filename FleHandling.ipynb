{
 "cells": [
  {
   "cell_type": "code",
   "execution_count": 1,
   "id": "ce29d99d-ac3a-48cb-853a-370856e3d18a",
   "metadata": {},
   "outputs": [
    {
     "data": {
      "text/plain": [
       "'\\nr-is use to read the file\\nx-is use to create file\\nw-is use to write a file data\\na-is use to append data into the file and its also create a file\\nopen - is use to open the file for operation\\nclose - is use to clode the file\\nread - use to read the file\\nreadline - use to read line\\nreadlines - use to read lines\\n'"
      ]
     },
     "execution_count": 1,
     "metadata": {},
     "output_type": "execute_result"
    }
   ],
   "source": [
    "'''\n",
    "r-is use to read the file\n",
    "x-is use to create file\n",
    "w-is use to write a file data\n",
    "a-is use to append data into the file and its also create a file\n",
    "open - is use to open the file for operation\n",
    "close - is use to clode the file\n",
    "read - use to read the file\n",
    "readline - use to read line\n",
    "readlines - use to read lines\n",
    "\n",
    "syntax\n",
    "\n",
    "variable= open (file path,mode) \n",
    "'''"
   ]
  },
  {
   "cell_type": "code",
   "execution_count": 8,
   "id": "c9f56bbe-e127-4f77-97c0-0ddc597f7bb3",
   "metadata": {},
   "outputs": [
    {
     "data": {
      "text/plain": [
       "21"
      ]
     },
     "execution_count": 8,
     "metadata": {},
     "output_type": "execute_result"
    }
   ],
   "source": [
    "f=open(\"File Handling/first.txt\",\"w\")\n",
    "f.write(\"This is my first file\")"
   ]
  },
  {
   "cell_type": "code",
   "execution_count": 15,
   "id": "416327bb-9144-4946-a1a2-ad46e317af09",
   "metadata": {},
   "outputs": [
    {
     "data": {
      "text/plain": [
       "'this is my second linesecondd line\\n thirdd line'"
      ]
     },
     "execution_count": 15,
     "metadata": {},
     "output_type": "execute_result"
    }
   ],
   "source": [
    "f=open(\"File Handling/first.txt\",\"r\")\n",
    "f.read()"
   ]
  },
  {
   "cell_type": "code",
   "execution_count": 10,
   "id": "e1785fdd-6616-4949-9b06-e22c32893a10",
   "metadata": {},
   "outputs": [
    {
     "data": {
      "text/plain": [
       "22"
      ]
     },
     "execution_count": 10,
     "metadata": {},
     "output_type": "execute_result"
    }
   ],
   "source": [
    "f=open(\"File Handling/first.txt\",\"w\")\n",
    "f.write(\"this is my second line\")"
   ]
  },
  {
   "cell_type": "code",
   "execution_count": 14,
   "id": "8e07adde-e8ac-4fd5-b359-0d395730b0a9",
   "metadata": {},
   "outputs": [
    {
     "data": {
      "text/plain": [
       "13"
      ]
     },
     "execution_count": 14,
     "metadata": {},
     "output_type": "execute_result"
    }
   ],
   "source": [
    "f=open(\"File Handling/first.txt\",\"a\")\n",
    "f.write(\"\\n thirdd line\")"
   ]
  },
  {
   "cell_type": "code",
   "execution_count": 17,
   "id": "c86b57f8-25b3-4bd4-8ecc-32b68bb6ea80",
   "metadata": {},
   "outputs": [],
   "source": [
    "f=open(\"File Handling/third.txt\",\"a\")"
   ]
  },
  {
   "cell_type": "code",
   "execution_count": null,
   "id": "a1868db5-9555-4c9a-8530-7c50ee71bf48",
   "metadata": {},
   "outputs": [],
   "source": []
  }
 ],
 "metadata": {
  "kernelspec": {
   "display_name": "Python 3 (ipykernel)",
   "language": "python",
   "name": "python3"
  },
  "language_info": {
   "codemirror_mode": {
    "name": "ipython",
    "version": 3
   },
   "file_extension": ".py",
   "mimetype": "text/x-python",
   "name": "python",
   "nbconvert_exporter": "python",
   "pygments_lexer": "ipython3",
   "version": "3.12.0"
  }
 },
 "nbformat": 4,
 "nbformat_minor": 5
}
