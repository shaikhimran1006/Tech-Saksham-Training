{
 "cells": [
  {
   "cell_type": "code",
   "execution_count": null,
   "id": "1fd24f7f-aa08-4306-b898-49d53e8eb85a",
   "metadata": {},
   "outputs": [],
   "source": [
    "''' classes\n",
    "    instance methods\n",
    "    class method\n",
    "    static method\n",
    "    \n",
    "'''"
   ]
  },
  {
   "cell_type": "code",
   "execution_count": 12,
   "id": "e6c3a01b-bcbc-4741-a13b-ab6dd5cd2b08",
   "metadata": {},
   "outputs": [
    {
     "name": "stdout",
     "output_type": "stream",
     "text": [
      "my name is imran and age is 50\n"
     ]
    }
   ],
   "source": [
    "#syntax\n",
    "class first:\n",
    "    def data(self,name,age):\n",
    "        self.name=name\n",
    "        self.age=age\n",
    "    def show(self):\n",
    "        print(f\"my name is {self.name} and age is {self.age}\")\n",
    "\n",
    "\n",
    "\n",
    "obj=first()\n",
    "obj.data(\"imran\",50)\n",
    "obj.show()\n",
    "    "
   ]
  },
  {
   "cell_type": "code",
   "execution_count": 18,
   "id": "d90508f0-cf4e-4d8c-b6fe-b38f2671b051",
   "metadata": {},
   "outputs": [
    {
     "name": "stdout",
     "output_type": "stream",
     "text": [
      "my name is imran and age is 10\n"
     ]
    }
   ],
   "source": [
    "#class method\n",
    "class Abc:\n",
    "    #decorator\n",
    "    @classmethod\n",
    "    def get(cls,name,age):\n",
    "        cls.name=name\n",
    "        cls.age=age\n",
    "        print(f\"my name is {cls.name} and age is {cls.age}\")\n",
    "Abc.get(\"imran\",10)"
   ]
  },
  {
   "cell_type": "code",
   "execution_count": 19,
   "id": "fe909d70-3628-4c41-afcb-1134631e68db",
   "metadata": {},
   "outputs": [
    {
     "name": "stdout",
     "output_type": "stream",
     "text": [
      "my name is imran and age is 20\n"
     ]
    }
   ],
   "source": [
    "#static method\n",
    "class Abc:\n",
    "    @staticmethod\n",
    "    def set(name,age):\n",
    "        print(f\"my name is {name} and age is {age}\")\n",
    "#without creating a object\n",
    "Abc.set(\"imran\",20)\n",
    "        "
   ]
  },
  {
   "cell_type": "code",
   "execution_count": 23,
   "id": "492b03bb-4e76-463c-acbb-59333c25d75b",
   "metadata": {},
   "outputs": [
    {
     "name": "stdout",
     "output_type": "stream",
     "text": [
      "i will run first\n",
      "i will run second\n",
      "i will run letter\n"
     ]
    }
   ],
   "source": [
    "class bank:\n",
    "    def __init__(self):#constructor\n",
    "        print(\"i will run first\")\n",
    "    def __del__():#destructre\n",
    "        print(\"i will run second\")\n",
    "    def show(self):#instance method\n",
    "        print(\"i will run letter\")\n",
    "\n",
    "obj=bank()\n",
    "obj.show()"
   ]
  },
  {
   "cell_type": "code",
   "execution_count": 28,
   "id": "1de31f93-bc36-4323-aaa8-bd36dc48563f",
   "metadata": {},
   "outputs": [
    {
     "name": "stdout",
     "output_type": "stream",
     "text": [
      "Deposited 1000 into account 1001. New balance: 6000\n",
      "Withdrawn 500 from account 1002. New balance: 2500\n",
      "Account 1003 balance: 7000\n",
      "Insufficient balance.\n",
      "Deposited 500 into account 1005. New balance: 2500\n"
     ]
    }
   ],
   "source": [
    "class BankAccount:\n",
    "    def __init__(self, account_number, holder_name, balance=0.0):\n",
    "        self.account_number = account_number\n",
    "        self.holder_name = holder_name\n",
    "        self.balance = balance\n",
    "    \n",
    "    def deposit(self, amount):\n",
    "        if amount > 0:\n",
    "            self.balance += amount\n",
    "            print(f\"Deposited {amount} into account {self.account_number}. New balance: {self.balance}\")\n",
    "        else:\n",
    "            print(\"Deposit proper amount.\")\n",
    "    \n",
    "    def withdraw(self, amount):\n",
    "        if 0 < amount <= self.balance:\n",
    "            self.balance -= amount\n",
    "            print(f\"Withdrawn {amount} from account {self.account_number}. New balance: {self.balance}\")\n",
    "        else:\n",
    "            print(\"Insufficient balance.\")\n",
    "    \n",
    "    def check_balance(self):\n",
    "        print(f\"Account {self.account_number} balance: {self.balance}\")\n",
    "\n",
    "\n",
    "accounts = [\n",
    "    BankAccount(1001, \"Alice\", 5000),\n",
    "    BankAccount(1002, \"Bob\", 3000),\n",
    "    BankAccount(1003, \"Charlie\", 7000),\n",
    "    BankAccount(1004, \"David\", 10000),\n",
    "    BankAccount(1005, \"Eve\", 2000)\n",
    "]\n",
    "\n",
    "accounts[0].deposit(1000)\n",
    "accounts[1].withdraw(500)\n",
    "accounts[2].check_balance()\n",
    "accounts[3].withdraw(15000)\n",
    "accounts[4].deposit(500)\n"
   ]
  },
  {
   "cell_type": "code",
   "execution_count": 27,
   "id": "d90439a1-71eb-4173-ae7c-afbeacbeb63f",
   "metadata": {},
   "outputs": [
    {
     "name": "stdout",
     "output_type": "stream",
     "text": [
      "100 created in your account total balance is 250\n",
      "50 debited from your account total balance is 200\n",
      "400 created in your account total balance is 650\n",
      "total balance 650\n"
     ]
    }
   ],
   "source": [
    "class Bank:\n",
    "    def __init__(self,amt):\n",
    "        self.amt=amt\n",
    "    def deposite(self,depo):\n",
    "        self.amt=self.amt+depo\n",
    "        print(f\"{depo} created in your account total balance is {self.amt}\")\n",
    "    def withdraw(self,wid):\n",
    "        self.wid=wid\n",
    "        print(f\"{wid} debited from your account total balance is {self.amt-wid}\")\n",
    "    def balance(self):\n",
    "        print(f\"total balance {self.amt}\")\n",
    "obj=Bank(150)\n",
    "obj.deposite(100)\n",
    "obj.withdraw(50)\n",
    "obj.deposite(400)\n",
    "obj.balance()"
   ]
  },
  {
   "cell_type": "code",
   "execution_count": 40,
   "id": "c7c47972-6543-43ef-a3a6-7255d49fe2fe",
   "metadata": {},
   "outputs": [
    {
     "name": "stdin",
     "output_type": "stream",
     "text": [
      "enter the username:  user2\n",
      "enter the password 234\n",
      "how much amount want to deposit : 150\n"
     ]
    },
    {
     "ename": "KeyError",
     "evalue": "234",
     "output_type": "error",
     "traceback": [
      "\u001b[1;31m---------------------------------------------------------------------------\u001b[0m",
      "\u001b[1;31mKeyError\u001b[0m                                  Traceback (most recent call last)",
      "Cell \u001b[1;32mIn[40], line 26\u001b[0m\n\u001b[0;32m     24\u001b[0m pass1\u001b[38;5;241m=\u001b[39m\u001b[38;5;28mint\u001b[39m(\u001b[38;5;28minput\u001b[39m(\u001b[38;5;124m\"\u001b[39m\u001b[38;5;124menter the password\u001b[39m\u001b[38;5;124m\"\u001b[39m))\n\u001b[0;32m     25\u001b[0m amount\u001b[38;5;241m=\u001b[39m\u001b[38;5;28mint\u001b[39m(\u001b[38;5;28minput\u001b[39m(\u001b[38;5;124m\"\u001b[39m\u001b[38;5;124mhow much amount want to deposit :\u001b[39m\u001b[38;5;124m\"\u001b[39m))\n\u001b[1;32m---> 26\u001b[0m \u001b[43mobj\u001b[49m\u001b[38;5;241;43m.\u001b[39;49m\u001b[43mdeposit\u001b[49m\u001b[43m(\u001b[49m\u001b[38;5;124;43m\"\u001b[39;49m\u001b[38;5;124;43muser1\u001b[39;49m\u001b[38;5;124;43m\"\u001b[39;49m\u001b[43m,\u001b[49m\u001b[43mpass1\u001b[49m\u001b[43m,\u001b[49m\u001b[43mamount\u001b[49m\u001b[43m)\u001b[49m\n\u001b[0;32m     27\u001b[0m obj\u001b[38;5;241m.\u001b[39mwithdraw(\u001b[38;5;124m\"\u001b[39m\u001b[38;5;124muser2\u001b[39m\u001b[38;5;124m\"\u001b[39m,\u001b[38;5;241m234\u001b[39m,\u001b[38;5;241m10\u001b[39m)\n",
      "Cell \u001b[1;32mIn[40], line 7\u001b[0m, in \u001b[0;36mBank.deposit\u001b[1;34m(self, user, password, depo)\u001b[0m\n\u001b[0;32m      6\u001b[0m \u001b[38;5;28;01mdef\u001b[39;00m \u001b[38;5;21mdeposit\u001b[39m(\u001b[38;5;28mself\u001b[39m,user,password,depo):\n\u001b[1;32m----> 7\u001b[0m     \u001b[38;5;28mself\u001b[39m\u001b[38;5;241m.\u001b[39mdetails[user][password][\u001b[38;5;124m\"\u001b[39m\u001b[38;5;124mamt\u001b[39m\u001b[38;5;124m\"\u001b[39m]\u001b[38;5;241m=\u001b[39m(\u001b[38;5;28;43mself\u001b[39;49m\u001b[38;5;241;43m.\u001b[39;49m\u001b[43mdetails\u001b[49m\u001b[43m[\u001b[49m\u001b[43muser\u001b[49m\u001b[43m]\u001b[49m\u001b[43m[\u001b[49m\u001b[43mpassword\u001b[49m\u001b[43m]\u001b[49m[\u001b[38;5;124m\"\u001b[39m\u001b[38;5;124mamt\u001b[39m\u001b[38;5;124m\"\u001b[39m])\u001b[38;5;241m+\u001b[39mdepo\n\u001b[0;32m      8\u001b[0m     a\u001b[38;5;241m=\u001b[39m\u001b[38;5;28mself\u001b[39m\u001b[38;5;241m.\u001b[39mdetails[user][password][\u001b[38;5;124m'\u001b[39m\u001b[38;5;124mamt\u001b[39m\u001b[38;5;124m'\u001b[39m]\n\u001b[0;32m     10\u001b[0m     \u001b[38;5;28mprint\u001b[39m(\u001b[38;5;124mf\u001b[39m\u001b[38;5;124m\"\u001b[39m\u001b[38;5;132;01m{\u001b[39;00mdepo\u001b[38;5;132;01m}\u001b[39;00m\u001b[38;5;124m credited in your account total balance is \u001b[39m\u001b[38;5;132;01m{\u001b[39;00ma\u001b[38;5;132;01m}\u001b[39;00m\u001b[38;5;124m\"\u001b[39m)\n",
      "\u001b[1;31mKeyError\u001b[0m: 234"
     ]
    }
   ],
   "source": [
    "#banking withh crendentials\n",
    "class Bank :\n",
    "    def __init__(self):\n",
    "        self.details={\"user1\":{123:{\"amt\":20,\"name\":\"xyz\",\"account\":12345}},\n",
    "                      \"user2\":{456:{\"amt\":80,\"name\":\"abc\",\"account\":45567}}}\n",
    "    def deposit(self,user,password,depo):\n",
    "        self.details[user][password][\"amt\"]=(self.details[user][password][\"amt\"])+depo\n",
    "        a=self.details[user][password]['amt']\n",
    "\n",
    "        print(f\"{depo} credited in your account total balance is {a}\")\n",
    "        for i in self.details[user][password]:\n",
    "            print(f\"{i}:{self.details[user][password][i]}\")\n",
    "\n",
    "    def withdraw(self,user,password,wid):\n",
    "        self.details[user][password][\"amt\"]=(self.details[user][password][\"amt\"])-wid\n",
    "        a=self.details[user][password]['amt']\n",
    "\n",
    "        print(f\"{wid} debited in your account total balance is {a}\")\n",
    "        for i in self.details[user][password]:\n",
    "            print(f\"{i}:{self.details[user][password][i]}\")\n",
    "\n",
    "obj = Bank()\n",
    "user=input(\"enter the username: \")\n",
    "pass1=int(input(\"enter the password\"))\n",
    "amount=int(input(\"how much amount want to deposit :\"))\n",
    "obj.deposit(\"user1\",pass1,amount)\n",
    "obj.withdraw(\"user2\",234,10)\n",
    "        "
   ]
  },
  {
   "cell_type": "code",
   "execution_count": null,
   "id": "94f029de-6cf9-471c-bdbc-7c91f7a533cf",
   "metadata": {},
   "outputs": [],
   "source": []
  }
 ],
 "metadata": {
  "kernelspec": {
   "display_name": "Python 3 (ipykernel)",
   "language": "python",
   "name": "python3"
  },
  "language_info": {
   "codemirror_mode": {
    "name": "ipython",
    "version": 3
   },
   "file_extension": ".py",
   "mimetype": "text/x-python",
   "name": "python",
   "nbconvert_exporter": "python",
   "pygments_lexer": "ipython3",
   "version": "3.12.0"
  }
 },
 "nbformat": 4,
 "nbformat_minor": 5
}
